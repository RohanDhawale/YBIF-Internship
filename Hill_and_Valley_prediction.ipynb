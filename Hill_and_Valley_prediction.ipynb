{
  "nbformat": 4,
  "nbformat_minor": 0,
  "metadata": {
    "colab": {
      "name": "Hill and Valley prediction.ipynb",
      "provenance": [],
      "authorship_tag": "ABX9TyO60DZRU57zzhq7wWhXn2MI",
      "include_colab_link": true
    },
    "kernelspec": {
      "name": "python3",
      "display_name": "Python 3"
    },
    "language_info": {
      "name": "python"
    }
  },
  "cells": [
    {
      "cell_type": "markdown",
      "metadata": {
        "id": "view-in-github",
        "colab_type": "text"
      },
      "source": [
        "<a href=\"https://colab.research.google.com/github/RohanDhawale/YBIF-Internship/blob/main/Hill_and_Valley_prediction.ipynb\" target=\"_parent\"><img src=\"https://colab.research.google.com/assets/colab-badge.svg\" alt=\"Open In Colab\"/></a>"
      ]
    },
    {
      "cell_type": "code",
      "execution_count": 1,
      "metadata": {
        "id": "asOWcvQgv6H8"
      },
      "outputs": [],
      "source": [
        "import pandas as pd"
      ]
    },
    {
      "cell_type": "code",
      "source": [
        "import numpy as np"
      ],
      "metadata": {
        "id": "CRYV7fnVwHHc"
      },
      "execution_count": 2,
      "outputs": []
    },
    {
      "cell_type": "code",
      "source": [
        "df=pd.read_csv('https://github.com/ybifoundation/Dataset/raw/main/Hill%20Valley%20Dataset.csv')"
      ],
      "metadata": {
        "id": "rZnIbp_JwHKD"
      },
      "execution_count": 3,
      "outputs": []
    },
    {
      "cell_type": "code",
      "source": [
        "df.head()"
      ],
      "metadata": {
        "colab": {
          "base_uri": "https://localhost:8080/",
          "height": 299
        },
        "id": "3Bo5fPQawHMl",
        "outputId": "fa06bed2-72e4-4148-f08b-a930a501bde5"
      },
      "execution_count": 4,
      "outputs": [
        {
          "output_type": "execute_result",
          "data": {
            "text/plain": [
              "         V1        V2        V3        V4        V5        V6        V7  \\\n",
              "0     39.02     36.49     38.20     38.85     39.38     39.74     37.02   \n",
              "1      1.83      1.71      1.77      1.77      1.68      1.78      1.80   \n",
              "2  68177.69  66138.42  72981.88  74304.33  67549.66  69367.34  69169.41   \n",
              "3  44889.06  39191.86  40728.46  38576.36  45876.06  47034.00  46611.43   \n",
              "4      5.70      5.40      5.28      5.38      5.27      5.61      6.00   \n",
              "\n",
              "         V8        V9       V10  ...       V92       V93       V94       V95  \\\n",
              "0     39.53     38.81     38.79  ...     36.62     36.92     38.80     38.52   \n",
              "1      1.70      1.75      1.78  ...      1.80      1.79      1.77      1.74   \n",
              "2  73268.61  74465.84  72503.37  ...  73438.88  71053.35  71112.62  74916.48   \n",
              "3  37668.32  40980.89  38466.15  ...  42625.67  40684.20  46960.73  44546.80   \n",
              "4      5.38      5.34      5.87  ...      5.17      5.67      5.60      5.94   \n",
              "\n",
              "        V96       V97       V98       V99      V100  Class  \n",
              "0     38.07     36.73     39.46     37.50     39.10      0  \n",
              "1      1.74      1.80      1.78      1.75      1.69      1  \n",
              "2  72571.58  66348.97  71063.72  67404.27  74920.24      1  \n",
              "3  45410.53  47139.44  43095.68  40888.34  39615.19      0  \n",
              "4      5.73      5.22      5.30      5.73      5.91      0  \n",
              "\n",
              "[5 rows x 101 columns]"
            ],
            "text/html": [
              "\n",
              "  <div id=\"df-96858d5b-17b1-4fe0-b413-28e76463b18e\">\n",
              "    <div class=\"colab-df-container\">\n",
              "      <div>\n",
              "<style scoped>\n",
              "    .dataframe tbody tr th:only-of-type {\n",
              "        vertical-align: middle;\n",
              "    }\n",
              "\n",
              "    .dataframe tbody tr th {\n",
              "        vertical-align: top;\n",
              "    }\n",
              "\n",
              "    .dataframe thead th {\n",
              "        text-align: right;\n",
              "    }\n",
              "</style>\n",
              "<table border=\"1\" class=\"dataframe\">\n",
              "  <thead>\n",
              "    <tr style=\"text-align: right;\">\n",
              "      <th></th>\n",
              "      <th>V1</th>\n",
              "      <th>V2</th>\n",
              "      <th>V3</th>\n",
              "      <th>V4</th>\n",
              "      <th>V5</th>\n",
              "      <th>V6</th>\n",
              "      <th>V7</th>\n",
              "      <th>V8</th>\n",
              "      <th>V9</th>\n",
              "      <th>V10</th>\n",
              "      <th>...</th>\n",
              "      <th>V92</th>\n",
              "      <th>V93</th>\n",
              "      <th>V94</th>\n",
              "      <th>V95</th>\n",
              "      <th>V96</th>\n",
              "      <th>V97</th>\n",
              "      <th>V98</th>\n",
              "      <th>V99</th>\n",
              "      <th>V100</th>\n",
              "      <th>Class</th>\n",
              "    </tr>\n",
              "  </thead>\n",
              "  <tbody>\n",
              "    <tr>\n",
              "      <th>0</th>\n",
              "      <td>39.02</td>\n",
              "      <td>36.49</td>\n",
              "      <td>38.20</td>\n",
              "      <td>38.85</td>\n",
              "      <td>39.38</td>\n",
              "      <td>39.74</td>\n",
              "      <td>37.02</td>\n",
              "      <td>39.53</td>\n",
              "      <td>38.81</td>\n",
              "      <td>38.79</td>\n",
              "      <td>...</td>\n",
              "      <td>36.62</td>\n",
              "      <td>36.92</td>\n",
              "      <td>38.80</td>\n",
              "      <td>38.52</td>\n",
              "      <td>38.07</td>\n",
              "      <td>36.73</td>\n",
              "      <td>39.46</td>\n",
              "      <td>37.50</td>\n",
              "      <td>39.10</td>\n",
              "      <td>0</td>\n",
              "    </tr>\n",
              "    <tr>\n",
              "      <th>1</th>\n",
              "      <td>1.83</td>\n",
              "      <td>1.71</td>\n",
              "      <td>1.77</td>\n",
              "      <td>1.77</td>\n",
              "      <td>1.68</td>\n",
              "      <td>1.78</td>\n",
              "      <td>1.80</td>\n",
              "      <td>1.70</td>\n",
              "      <td>1.75</td>\n",
              "      <td>1.78</td>\n",
              "      <td>...</td>\n",
              "      <td>1.80</td>\n",
              "      <td>1.79</td>\n",
              "      <td>1.77</td>\n",
              "      <td>1.74</td>\n",
              "      <td>1.74</td>\n",
              "      <td>1.80</td>\n",
              "      <td>1.78</td>\n",
              "      <td>1.75</td>\n",
              "      <td>1.69</td>\n",
              "      <td>1</td>\n",
              "    </tr>\n",
              "    <tr>\n",
              "      <th>2</th>\n",
              "      <td>68177.69</td>\n",
              "      <td>66138.42</td>\n",
              "      <td>72981.88</td>\n",
              "      <td>74304.33</td>\n",
              "      <td>67549.66</td>\n",
              "      <td>69367.34</td>\n",
              "      <td>69169.41</td>\n",
              "      <td>73268.61</td>\n",
              "      <td>74465.84</td>\n",
              "      <td>72503.37</td>\n",
              "      <td>...</td>\n",
              "      <td>73438.88</td>\n",
              "      <td>71053.35</td>\n",
              "      <td>71112.62</td>\n",
              "      <td>74916.48</td>\n",
              "      <td>72571.58</td>\n",
              "      <td>66348.97</td>\n",
              "      <td>71063.72</td>\n",
              "      <td>67404.27</td>\n",
              "      <td>74920.24</td>\n",
              "      <td>1</td>\n",
              "    </tr>\n",
              "    <tr>\n",
              "      <th>3</th>\n",
              "      <td>44889.06</td>\n",
              "      <td>39191.86</td>\n",
              "      <td>40728.46</td>\n",
              "      <td>38576.36</td>\n",
              "      <td>45876.06</td>\n",
              "      <td>47034.00</td>\n",
              "      <td>46611.43</td>\n",
              "      <td>37668.32</td>\n",
              "      <td>40980.89</td>\n",
              "      <td>38466.15</td>\n",
              "      <td>...</td>\n",
              "      <td>42625.67</td>\n",
              "      <td>40684.20</td>\n",
              "      <td>46960.73</td>\n",
              "      <td>44546.80</td>\n",
              "      <td>45410.53</td>\n",
              "      <td>47139.44</td>\n",
              "      <td>43095.68</td>\n",
              "      <td>40888.34</td>\n",
              "      <td>39615.19</td>\n",
              "      <td>0</td>\n",
              "    </tr>\n",
              "    <tr>\n",
              "      <th>4</th>\n",
              "      <td>5.70</td>\n",
              "      <td>5.40</td>\n",
              "      <td>5.28</td>\n",
              "      <td>5.38</td>\n",
              "      <td>5.27</td>\n",
              "      <td>5.61</td>\n",
              "      <td>6.00</td>\n",
              "      <td>5.38</td>\n",
              "      <td>5.34</td>\n",
              "      <td>5.87</td>\n",
              "      <td>...</td>\n",
              "      <td>5.17</td>\n",
              "      <td>5.67</td>\n",
              "      <td>5.60</td>\n",
              "      <td>5.94</td>\n",
              "      <td>5.73</td>\n",
              "      <td>5.22</td>\n",
              "      <td>5.30</td>\n",
              "      <td>5.73</td>\n",
              "      <td>5.91</td>\n",
              "      <td>0</td>\n",
              "    </tr>\n",
              "  </tbody>\n",
              "</table>\n",
              "<p>5 rows × 101 columns</p>\n",
              "</div>\n",
              "      <button class=\"colab-df-convert\" onclick=\"convertToInteractive('df-96858d5b-17b1-4fe0-b413-28e76463b18e')\"\n",
              "              title=\"Convert this dataframe to an interactive table.\"\n",
              "              style=\"display:none;\">\n",
              "        \n",
              "  <svg xmlns=\"http://www.w3.org/2000/svg\" height=\"24px\"viewBox=\"0 0 24 24\"\n",
              "       width=\"24px\">\n",
              "    <path d=\"M0 0h24v24H0V0z\" fill=\"none\"/>\n",
              "    <path d=\"M18.56 5.44l.94 2.06.94-2.06 2.06-.94-2.06-.94-.94-2.06-.94 2.06-2.06.94zm-11 1L8.5 8.5l.94-2.06 2.06-.94-2.06-.94L8.5 2.5l-.94 2.06-2.06.94zm10 10l.94 2.06.94-2.06 2.06-.94-2.06-.94-.94-2.06-.94 2.06-2.06.94z\"/><path d=\"M17.41 7.96l-1.37-1.37c-.4-.4-.92-.59-1.43-.59-.52 0-1.04.2-1.43.59L10.3 9.45l-7.72 7.72c-.78.78-.78 2.05 0 2.83L4 21.41c.39.39.9.59 1.41.59.51 0 1.02-.2 1.41-.59l7.78-7.78 2.81-2.81c.8-.78.8-2.07 0-2.86zM5.41 20L4 18.59l7.72-7.72 1.47 1.35L5.41 20z\"/>\n",
              "  </svg>\n",
              "      </button>\n",
              "      \n",
              "  <style>\n",
              "    .colab-df-container {\n",
              "      display:flex;\n",
              "      flex-wrap:wrap;\n",
              "      gap: 12px;\n",
              "    }\n",
              "\n",
              "    .colab-df-convert {\n",
              "      background-color: #E8F0FE;\n",
              "      border: none;\n",
              "      border-radius: 50%;\n",
              "      cursor: pointer;\n",
              "      display: none;\n",
              "      fill: #1967D2;\n",
              "      height: 32px;\n",
              "      padding: 0 0 0 0;\n",
              "      width: 32px;\n",
              "    }\n",
              "\n",
              "    .colab-df-convert:hover {\n",
              "      background-color: #E2EBFA;\n",
              "      box-shadow: 0px 1px 2px rgba(60, 64, 67, 0.3), 0px 1px 3px 1px rgba(60, 64, 67, 0.15);\n",
              "      fill: #174EA6;\n",
              "    }\n",
              "\n",
              "    [theme=dark] .colab-df-convert {\n",
              "      background-color: #3B4455;\n",
              "      fill: #D2E3FC;\n",
              "    }\n",
              "\n",
              "    [theme=dark] .colab-df-convert:hover {\n",
              "      background-color: #434B5C;\n",
              "      box-shadow: 0px 1px 3px 1px rgba(0, 0, 0, 0.15);\n",
              "      filter: drop-shadow(0px 1px 2px rgba(0, 0, 0, 0.3));\n",
              "      fill: #FFFFFF;\n",
              "    }\n",
              "  </style>\n",
              "\n",
              "      <script>\n",
              "        const buttonEl =\n",
              "          document.querySelector('#df-96858d5b-17b1-4fe0-b413-28e76463b18e button.colab-df-convert');\n",
              "        buttonEl.style.display =\n",
              "          google.colab.kernel.accessAllowed ? 'block' : 'none';\n",
              "\n",
              "        async function convertToInteractive(key) {\n",
              "          const element = document.querySelector('#df-96858d5b-17b1-4fe0-b413-28e76463b18e');\n",
              "          const dataTable =\n",
              "            await google.colab.kernel.invokeFunction('convertToInteractive',\n",
              "                                                     [key], {});\n",
              "          if (!dataTable) return;\n",
              "\n",
              "          const docLinkHtml = 'Like what you see? Visit the ' +\n",
              "            '<a target=\"_blank\" href=https://colab.research.google.com/notebooks/data_table.ipynb>data table notebook</a>'\n",
              "            + ' to learn more about interactive tables.';\n",
              "          element.innerHTML = '';\n",
              "          dataTable['output_type'] = 'display_data';\n",
              "          await google.colab.output.renderOutput(dataTable, element);\n",
              "          const docLink = document.createElement('div');\n",
              "          docLink.innerHTML = docLinkHtml;\n",
              "          element.appendChild(docLink);\n",
              "        }\n",
              "      </script>\n",
              "    </div>\n",
              "  </div>\n",
              "  "
            ]
          },
          "metadata": {},
          "execution_count": 4
        }
      ]
    },
    {
      "cell_type": "code",
      "source": [
        "df.info()"
      ],
      "metadata": {
        "colab": {
          "base_uri": "https://localhost:8080/"
        },
        "id": "QVBoEeKDwHPF",
        "outputId": "243ea63d-911f-4676-cac4-494b0ab466b9"
      },
      "execution_count": 5,
      "outputs": [
        {
          "output_type": "stream",
          "name": "stdout",
          "text": [
            "<class 'pandas.core.frame.DataFrame'>\n",
            "RangeIndex: 1212 entries, 0 to 1211\n",
            "Columns: 101 entries, V1 to Class\n",
            "dtypes: float64(100), int64(1)\n",
            "memory usage: 956.5 KB\n"
          ]
        }
      ]
    },
    {
      "cell_type": "code",
      "source": [
        "df.describe()"
      ],
      "metadata": {
        "colab": {
          "base_uri": "https://localhost:8080/",
          "height": 394
        },
        "id": "xi0rP9yuwHRQ",
        "outputId": "a36f1471-ce9c-4e17-d62d-a869d0da509d"
      },
      "execution_count": 6,
      "outputs": [
        {
          "output_type": "execute_result",
          "data": {
            "text/plain": [
              "                  V1             V2             V3             V4  \\\n",
              "count    1212.000000    1212.000000    1212.000000    1212.000000   \n",
              "mean     8169.091881    8144.306262    8192.653738    8176.868738   \n",
              "std     17974.950461   17881.049734   18087.938901   17991.903982   \n",
              "min         0.920000       0.900000       0.850000       0.890000   \n",
              "25%        19.602500      19.595000      18.925000      19.277500   \n",
              "50%       301.425000     295.205000     297.260000     299.720000   \n",
              "75%      5358.795000    5417.847500    5393.367500    5388.482500   \n",
              "max    117807.870000  108896.480000  119031.350000  110212.590000   \n",
              "\n",
              "                  V5             V6             V7             V8  \\\n",
              "count    1212.000000    1212.000000    1212.000000    1212.000000   \n",
              "mean     8128.297211    8173.030008    8188.582748    8183.641543   \n",
              "std     17846.757963   17927.114105   18029.562695   18048.582159   \n",
              "min         0.880000       0.860000       0.870000       0.650000   \n",
              "25%        19.210000      19.582500      18.690000      19.062500   \n",
              "50%       295.115000     294.380000     295.935000     290.850000   \n",
              "75%      5321.987500    5328.040000    5443.977500    5283.655000   \n",
              "max    113000.470000  116848.390000  115609.240000  118522.320000   \n",
              "\n",
              "                  V9            V10  ...            V92            V93  \\\n",
              "count    1212.000000    1212.000000  ...    1212.000000    1212.000000   \n",
              "mean     8154.670066    8120.767574  ...    8120.056815    8125.917409   \n",
              "std     17982.390713   17900.798206  ...   17773.190621   17758.182403   \n",
              "min         0.650000       0.620000  ...       0.870000       0.900000   \n",
              "25%        19.532500      19.285000  ...      19.197500      18.895000   \n",
              "50%       294.565000     295.160000  ...     297.845000     295.420000   \n",
              "75%      5378.180000    5319.097500  ...    5355.355000    5386.037500   \n",
              "max    112895.900000  117798.300000  ...  113858.680000  112948.830000   \n",
              "\n",
              "                 V94            V95            V96            V97  \\\n",
              "count    1212.000000    1212.000000    1212.000000    1212.000000   \n",
              "mean     8158.793812    8140.885421    8213.480611    8185.594002   \n",
              "std     17919.510371   17817.945646   18016.445265   17956.084223   \n",
              "min         0.870000       0.880000       0.890000       0.890000   \n",
              "25%        19.237500      19.385000      19.027500      19.135000   \n",
              "50%       299.155000     293.355000     301.370000     296.960000   \n",
              "75%      5286.385000    5345.797500    5300.890000    5361.047500   \n",
              "max    112409.570000  112933.730000  112037.220000  115110.420000   \n",
              "\n",
              "                 V98            V99           V100        Class  \n",
              "count    1212.000000    1212.000000    1212.000000  1212.000000  \n",
              "mean     8140.195355    8192.960891    8156.197376     0.500000  \n",
              "std     17768.356106   18064.781479   17829.310973     0.500206  \n",
              "min         0.860000       0.910000       0.890000     0.000000  \n",
              "25%        19.205000      18.812500      19.145000     0.000000  \n",
              "50%       300.925000     299.200000     302.275000     0.500000  \n",
              "75%      5390.850000    5288.712500    5357.847500     1.000000  \n",
              "max    116431.960000  113291.960000  114533.760000     1.000000  \n",
              "\n",
              "[8 rows x 101 columns]"
            ],
            "text/html": [
              "\n",
              "  <div id=\"df-7e059488-24d4-46a8-bb1c-92d8aaaf2057\">\n",
              "    <div class=\"colab-df-container\">\n",
              "      <div>\n",
              "<style scoped>\n",
              "    .dataframe tbody tr th:only-of-type {\n",
              "        vertical-align: middle;\n",
              "    }\n",
              "\n",
              "    .dataframe tbody tr th {\n",
              "        vertical-align: top;\n",
              "    }\n",
              "\n",
              "    .dataframe thead th {\n",
              "        text-align: right;\n",
              "    }\n",
              "</style>\n",
              "<table border=\"1\" class=\"dataframe\">\n",
              "  <thead>\n",
              "    <tr style=\"text-align: right;\">\n",
              "      <th></th>\n",
              "      <th>V1</th>\n",
              "      <th>V2</th>\n",
              "      <th>V3</th>\n",
              "      <th>V4</th>\n",
              "      <th>V5</th>\n",
              "      <th>V6</th>\n",
              "      <th>V7</th>\n",
              "      <th>V8</th>\n",
              "      <th>V9</th>\n",
              "      <th>V10</th>\n",
              "      <th>...</th>\n",
              "      <th>V92</th>\n",
              "      <th>V93</th>\n",
              "      <th>V94</th>\n",
              "      <th>V95</th>\n",
              "      <th>V96</th>\n",
              "      <th>V97</th>\n",
              "      <th>V98</th>\n",
              "      <th>V99</th>\n",
              "      <th>V100</th>\n",
              "      <th>Class</th>\n",
              "    </tr>\n",
              "  </thead>\n",
              "  <tbody>\n",
              "    <tr>\n",
              "      <th>count</th>\n",
              "      <td>1212.000000</td>\n",
              "      <td>1212.000000</td>\n",
              "      <td>1212.000000</td>\n",
              "      <td>1212.000000</td>\n",
              "      <td>1212.000000</td>\n",
              "      <td>1212.000000</td>\n",
              "      <td>1212.000000</td>\n",
              "      <td>1212.000000</td>\n",
              "      <td>1212.000000</td>\n",
              "      <td>1212.000000</td>\n",
              "      <td>...</td>\n",
              "      <td>1212.000000</td>\n",
              "      <td>1212.000000</td>\n",
              "      <td>1212.000000</td>\n",
              "      <td>1212.000000</td>\n",
              "      <td>1212.000000</td>\n",
              "      <td>1212.000000</td>\n",
              "      <td>1212.000000</td>\n",
              "      <td>1212.000000</td>\n",
              "      <td>1212.000000</td>\n",
              "      <td>1212.000000</td>\n",
              "    </tr>\n",
              "    <tr>\n",
              "      <th>mean</th>\n",
              "      <td>8169.091881</td>\n",
              "      <td>8144.306262</td>\n",
              "      <td>8192.653738</td>\n",
              "      <td>8176.868738</td>\n",
              "      <td>8128.297211</td>\n",
              "      <td>8173.030008</td>\n",
              "      <td>8188.582748</td>\n",
              "      <td>8183.641543</td>\n",
              "      <td>8154.670066</td>\n",
              "      <td>8120.767574</td>\n",
              "      <td>...</td>\n",
              "      <td>8120.056815</td>\n",
              "      <td>8125.917409</td>\n",
              "      <td>8158.793812</td>\n",
              "      <td>8140.885421</td>\n",
              "      <td>8213.480611</td>\n",
              "      <td>8185.594002</td>\n",
              "      <td>8140.195355</td>\n",
              "      <td>8192.960891</td>\n",
              "      <td>8156.197376</td>\n",
              "      <td>0.500000</td>\n",
              "    </tr>\n",
              "    <tr>\n",
              "      <th>std</th>\n",
              "      <td>17974.950461</td>\n",
              "      <td>17881.049734</td>\n",
              "      <td>18087.938901</td>\n",
              "      <td>17991.903982</td>\n",
              "      <td>17846.757963</td>\n",
              "      <td>17927.114105</td>\n",
              "      <td>18029.562695</td>\n",
              "      <td>18048.582159</td>\n",
              "      <td>17982.390713</td>\n",
              "      <td>17900.798206</td>\n",
              "      <td>...</td>\n",
              "      <td>17773.190621</td>\n",
              "      <td>17758.182403</td>\n",
              "      <td>17919.510371</td>\n",
              "      <td>17817.945646</td>\n",
              "      <td>18016.445265</td>\n",
              "      <td>17956.084223</td>\n",
              "      <td>17768.356106</td>\n",
              "      <td>18064.781479</td>\n",
              "      <td>17829.310973</td>\n",
              "      <td>0.500206</td>\n",
              "    </tr>\n",
              "    <tr>\n",
              "      <th>min</th>\n",
              "      <td>0.920000</td>\n",
              "      <td>0.900000</td>\n",
              "      <td>0.850000</td>\n",
              "      <td>0.890000</td>\n",
              "      <td>0.880000</td>\n",
              "      <td>0.860000</td>\n",
              "      <td>0.870000</td>\n",
              "      <td>0.650000</td>\n",
              "      <td>0.650000</td>\n",
              "      <td>0.620000</td>\n",
              "      <td>...</td>\n",
              "      <td>0.870000</td>\n",
              "      <td>0.900000</td>\n",
              "      <td>0.870000</td>\n",
              "      <td>0.880000</td>\n",
              "      <td>0.890000</td>\n",
              "      <td>0.890000</td>\n",
              "      <td>0.860000</td>\n",
              "      <td>0.910000</td>\n",
              "      <td>0.890000</td>\n",
              "      <td>0.000000</td>\n",
              "    </tr>\n",
              "    <tr>\n",
              "      <th>25%</th>\n",
              "      <td>19.602500</td>\n",
              "      <td>19.595000</td>\n",
              "      <td>18.925000</td>\n",
              "      <td>19.277500</td>\n",
              "      <td>19.210000</td>\n",
              "      <td>19.582500</td>\n",
              "      <td>18.690000</td>\n",
              "      <td>19.062500</td>\n",
              "      <td>19.532500</td>\n",
              "      <td>19.285000</td>\n",
              "      <td>...</td>\n",
              "      <td>19.197500</td>\n",
              "      <td>18.895000</td>\n",
              "      <td>19.237500</td>\n",
              "      <td>19.385000</td>\n",
              "      <td>19.027500</td>\n",
              "      <td>19.135000</td>\n",
              "      <td>19.205000</td>\n",
              "      <td>18.812500</td>\n",
              "      <td>19.145000</td>\n",
              "      <td>0.000000</td>\n",
              "    </tr>\n",
              "    <tr>\n",
              "      <th>50%</th>\n",
              "      <td>301.425000</td>\n",
              "      <td>295.205000</td>\n",
              "      <td>297.260000</td>\n",
              "      <td>299.720000</td>\n",
              "      <td>295.115000</td>\n",
              "      <td>294.380000</td>\n",
              "      <td>295.935000</td>\n",
              "      <td>290.850000</td>\n",
              "      <td>294.565000</td>\n",
              "      <td>295.160000</td>\n",
              "      <td>...</td>\n",
              "      <td>297.845000</td>\n",
              "      <td>295.420000</td>\n",
              "      <td>299.155000</td>\n",
              "      <td>293.355000</td>\n",
              "      <td>301.370000</td>\n",
              "      <td>296.960000</td>\n",
              "      <td>300.925000</td>\n",
              "      <td>299.200000</td>\n",
              "      <td>302.275000</td>\n",
              "      <td>0.500000</td>\n",
              "    </tr>\n",
              "    <tr>\n",
              "      <th>75%</th>\n",
              "      <td>5358.795000</td>\n",
              "      <td>5417.847500</td>\n",
              "      <td>5393.367500</td>\n",
              "      <td>5388.482500</td>\n",
              "      <td>5321.987500</td>\n",
              "      <td>5328.040000</td>\n",
              "      <td>5443.977500</td>\n",
              "      <td>5283.655000</td>\n",
              "      <td>5378.180000</td>\n",
              "      <td>5319.097500</td>\n",
              "      <td>...</td>\n",
              "      <td>5355.355000</td>\n",
              "      <td>5386.037500</td>\n",
              "      <td>5286.385000</td>\n",
              "      <td>5345.797500</td>\n",
              "      <td>5300.890000</td>\n",
              "      <td>5361.047500</td>\n",
              "      <td>5390.850000</td>\n",
              "      <td>5288.712500</td>\n",
              "      <td>5357.847500</td>\n",
              "      <td>1.000000</td>\n",
              "    </tr>\n",
              "    <tr>\n",
              "      <th>max</th>\n",
              "      <td>117807.870000</td>\n",
              "      <td>108896.480000</td>\n",
              "      <td>119031.350000</td>\n",
              "      <td>110212.590000</td>\n",
              "      <td>113000.470000</td>\n",
              "      <td>116848.390000</td>\n",
              "      <td>115609.240000</td>\n",
              "      <td>118522.320000</td>\n",
              "      <td>112895.900000</td>\n",
              "      <td>117798.300000</td>\n",
              "      <td>...</td>\n",
              "      <td>113858.680000</td>\n",
              "      <td>112948.830000</td>\n",
              "      <td>112409.570000</td>\n",
              "      <td>112933.730000</td>\n",
              "      <td>112037.220000</td>\n",
              "      <td>115110.420000</td>\n",
              "      <td>116431.960000</td>\n",
              "      <td>113291.960000</td>\n",
              "      <td>114533.760000</td>\n",
              "      <td>1.000000</td>\n",
              "    </tr>\n",
              "  </tbody>\n",
              "</table>\n",
              "<p>8 rows × 101 columns</p>\n",
              "</div>\n",
              "      <button class=\"colab-df-convert\" onclick=\"convertToInteractive('df-7e059488-24d4-46a8-bb1c-92d8aaaf2057')\"\n",
              "              title=\"Convert this dataframe to an interactive table.\"\n",
              "              style=\"display:none;\">\n",
              "        \n",
              "  <svg xmlns=\"http://www.w3.org/2000/svg\" height=\"24px\"viewBox=\"0 0 24 24\"\n",
              "       width=\"24px\">\n",
              "    <path d=\"M0 0h24v24H0V0z\" fill=\"none\"/>\n",
              "    <path d=\"M18.56 5.44l.94 2.06.94-2.06 2.06-.94-2.06-.94-.94-2.06-.94 2.06-2.06.94zm-11 1L8.5 8.5l.94-2.06 2.06-.94-2.06-.94L8.5 2.5l-.94 2.06-2.06.94zm10 10l.94 2.06.94-2.06 2.06-.94-2.06-.94-.94-2.06-.94 2.06-2.06.94z\"/><path d=\"M17.41 7.96l-1.37-1.37c-.4-.4-.92-.59-1.43-.59-.52 0-1.04.2-1.43.59L10.3 9.45l-7.72 7.72c-.78.78-.78 2.05 0 2.83L4 21.41c.39.39.9.59 1.41.59.51 0 1.02-.2 1.41-.59l7.78-7.78 2.81-2.81c.8-.78.8-2.07 0-2.86zM5.41 20L4 18.59l7.72-7.72 1.47 1.35L5.41 20z\"/>\n",
              "  </svg>\n",
              "      </button>\n",
              "      \n",
              "  <style>\n",
              "    .colab-df-container {\n",
              "      display:flex;\n",
              "      flex-wrap:wrap;\n",
              "      gap: 12px;\n",
              "    }\n",
              "\n",
              "    .colab-df-convert {\n",
              "      background-color: #E8F0FE;\n",
              "      border: none;\n",
              "      border-radius: 50%;\n",
              "      cursor: pointer;\n",
              "      display: none;\n",
              "      fill: #1967D2;\n",
              "      height: 32px;\n",
              "      padding: 0 0 0 0;\n",
              "      width: 32px;\n",
              "    }\n",
              "\n",
              "    .colab-df-convert:hover {\n",
              "      background-color: #E2EBFA;\n",
              "      box-shadow: 0px 1px 2px rgba(60, 64, 67, 0.3), 0px 1px 3px 1px rgba(60, 64, 67, 0.15);\n",
              "      fill: #174EA6;\n",
              "    }\n",
              "\n",
              "    [theme=dark] .colab-df-convert {\n",
              "      background-color: #3B4455;\n",
              "      fill: #D2E3FC;\n",
              "    }\n",
              "\n",
              "    [theme=dark] .colab-df-convert:hover {\n",
              "      background-color: #434B5C;\n",
              "      box-shadow: 0px 1px 3px 1px rgba(0, 0, 0, 0.15);\n",
              "      filter: drop-shadow(0px 1px 2px rgba(0, 0, 0, 0.3));\n",
              "      fill: #FFFFFF;\n",
              "    }\n",
              "  </style>\n",
              "\n",
              "      <script>\n",
              "        const buttonEl =\n",
              "          document.querySelector('#df-7e059488-24d4-46a8-bb1c-92d8aaaf2057 button.colab-df-convert');\n",
              "        buttonEl.style.display =\n",
              "          google.colab.kernel.accessAllowed ? 'block' : 'none';\n",
              "\n",
              "        async function convertToInteractive(key) {\n",
              "          const element = document.querySelector('#df-7e059488-24d4-46a8-bb1c-92d8aaaf2057');\n",
              "          const dataTable =\n",
              "            await google.colab.kernel.invokeFunction('convertToInteractive',\n",
              "                                                     [key], {});\n",
              "          if (!dataTable) return;\n",
              "\n",
              "          const docLinkHtml = 'Like what you see? Visit the ' +\n",
              "            '<a target=\"_blank\" href=https://colab.research.google.com/notebooks/data_table.ipynb>data table notebook</a>'\n",
              "            + ' to learn more about interactive tables.';\n",
              "          element.innerHTML = '';\n",
              "          dataTable['output_type'] = 'display_data';\n",
              "          await google.colab.output.renderOutput(dataTable, element);\n",
              "          const docLink = document.createElement('div');\n",
              "          docLink.innerHTML = docLinkHtml;\n",
              "          element.appendChild(docLink);\n",
              "        }\n",
              "      </script>\n",
              "    </div>\n",
              "  </div>\n",
              "  "
            ]
          },
          "metadata": {},
          "execution_count": 6
        }
      ]
    },
    {
      "cell_type": "code",
      "source": [
        "df.columns"
      ],
      "metadata": {
        "colab": {
          "base_uri": "https://localhost:8080/"
        },
        "id": "YiFhqPRLwHTt",
        "outputId": "73b70b5a-40d7-4bd3-b3b1-bf13a7ddd52d"
      },
      "execution_count": 7,
      "outputs": [
        {
          "output_type": "execute_result",
          "data": {
            "text/plain": [
              "Index(['V1', 'V2', 'V3', 'V4', 'V5', 'V6', 'V7', 'V8', 'V9', 'V10',\n",
              "       ...\n",
              "       'V92', 'V93', 'V94', 'V95', 'V96', 'V97', 'V98', 'V99', 'V100',\n",
              "       'Class'],\n",
              "      dtype='object', length=101)"
            ]
          },
          "metadata": {},
          "execution_count": 7
        }
      ]
    },
    {
      "cell_type": "code",
      "source": [
        "print(df.columns.tolist())"
      ],
      "metadata": {
        "colab": {
          "base_uri": "https://localhost:8080/"
        },
        "id": "oAYZheAzwHWR",
        "outputId": "f7c67244-ea07-42ca-9598-8b4cc876a681"
      },
      "execution_count": 8,
      "outputs": [
        {
          "output_type": "stream",
          "name": "stdout",
          "text": [
            "['V1', 'V2', 'V3', 'V4', 'V5', 'V6', 'V7', 'V8', 'V9', 'V10', 'V11', 'V12', 'V13', 'V14', 'V15', 'V16', 'V17', 'V18', 'V19', 'V20', 'V21', 'V22', 'V23', 'V24', 'V25', 'V26', 'V27', 'V28', 'V29', 'V30', 'V31', 'V32', 'V33', 'V34', 'V35', 'V36', 'V37', 'V38', 'V39', 'V40', 'V41', 'V42', 'V43', 'V44', 'V45', 'V46', 'V47', 'V48', 'V49', 'V50', 'V51', 'V52', 'V53', 'V54', 'V55', 'V56', 'V57', 'V58', 'V59', 'V60', 'V61', 'V62', 'V63', 'V64', 'V65', 'V66', 'V67', 'V68', 'V69', 'V70', 'V71', 'V72', 'V73', 'V74', 'V75', 'V76', 'V77', 'V78', 'V79', 'V80', 'V81', 'V82', 'V83', 'V84', 'V85', 'V86', 'V87', 'V88', 'V89', 'V90', 'V91', 'V92', 'V93', 'V94', 'V95', 'V96', 'V97', 'V98', 'V99', 'V100', 'Class']\n"
          ]
        }
      ]
    },
    {
      "cell_type": "code",
      "source": [
        "df.shape"
      ],
      "metadata": {
        "colab": {
          "base_uri": "https://localhost:8080/"
        },
        "id": "OUJYKjmNwHYt",
        "outputId": "728f6150-0cd9-42bb-edde-a2ad6188c951"
      },
      "execution_count": 10,
      "outputs": [
        {
          "output_type": "execute_result",
          "data": {
            "text/plain": [
              "(1212, 101)"
            ]
          },
          "metadata": {},
          "execution_count": 10
        }
      ]
    },
    {
      "cell_type": "code",
      "source": [
        "df['Class'].value_counts()"
      ],
      "metadata": {
        "colab": {
          "base_uri": "https://localhost:8080/"
        },
        "id": "koqtCGoAwHbG",
        "outputId": "99f75865-8960-4bf1-f1a2-12ed5153c673"
      },
      "execution_count": 11,
      "outputs": [
        {
          "output_type": "execute_result",
          "data": {
            "text/plain": [
              "0    606\n",
              "1    606\n",
              "Name: Class, dtype: int64"
            ]
          },
          "metadata": {},
          "execution_count": 11
        }
      ]
    },
    {
      "cell_type": "code",
      "source": [
        "df.groupby(\"Class\").mean()"
      ],
      "metadata": {
        "colab": {
          "base_uri": "https://localhost:8080/",
          "height": 237
        },
        "id": "rciFFndhwHdb",
        "outputId": "7ef7f84f-ed78-45f6-a726-703868e067ac"
      },
      "execution_count": 12,
      "outputs": [
        {
          "output_type": "execute_result",
          "data": {
            "text/plain": [
              "                V1           V2           V3           V4           V5  \\\n",
              "Class                                                                    \n",
              "0      7913.333251  7825.339967  7902.497294  7857.032079  7775.610198   \n",
              "1      8424.850512  8463.272558  8482.810182  8496.705396  8480.984224   \n",
              "\n",
              "                V6           V7           V8           V9          V10  ...  \\\n",
              "Class                                                                   ...   \n",
              "0      7875.436337  7804.166584  7722.324802  7793.328416  7686.782046  ...   \n",
              "1      8470.623680  8572.998911  8644.958284  8516.011716  8554.753102  ...   \n",
              "\n",
              "               V91          V92          V93          V94          V95  \\\n",
              "Class                                                                    \n",
              "0      7753.427244  7737.843366  7799.332079  7825.211700  7791.354010   \n",
              "1      8478.513399  8502.270264  8452.502739  8492.375924  8490.416832   \n",
              "\n",
              "               V96          V97          V98          V99         V100  \n",
              "Class                                                                   \n",
              "0      7927.237112  7874.502343  7844.227459  7875.338713  7855.181172  \n",
              "1      8499.724109  8496.685660  8436.163251  8510.583069  8457.213581  \n",
              "\n",
              "[2 rows x 100 columns]"
            ],
            "text/html": [
              "\n",
              "  <div id=\"df-4f6fd8bf-6bee-4d74-978d-2d81488bca85\">\n",
              "    <div class=\"colab-df-container\">\n",
              "      <div>\n",
              "<style scoped>\n",
              "    .dataframe tbody tr th:only-of-type {\n",
              "        vertical-align: middle;\n",
              "    }\n",
              "\n",
              "    .dataframe tbody tr th {\n",
              "        vertical-align: top;\n",
              "    }\n",
              "\n",
              "    .dataframe thead th {\n",
              "        text-align: right;\n",
              "    }\n",
              "</style>\n",
              "<table border=\"1\" class=\"dataframe\">\n",
              "  <thead>\n",
              "    <tr style=\"text-align: right;\">\n",
              "      <th></th>\n",
              "      <th>V1</th>\n",
              "      <th>V2</th>\n",
              "      <th>V3</th>\n",
              "      <th>V4</th>\n",
              "      <th>V5</th>\n",
              "      <th>V6</th>\n",
              "      <th>V7</th>\n",
              "      <th>V8</th>\n",
              "      <th>V9</th>\n",
              "      <th>V10</th>\n",
              "      <th>...</th>\n",
              "      <th>V91</th>\n",
              "      <th>V92</th>\n",
              "      <th>V93</th>\n",
              "      <th>V94</th>\n",
              "      <th>V95</th>\n",
              "      <th>V96</th>\n",
              "      <th>V97</th>\n",
              "      <th>V98</th>\n",
              "      <th>V99</th>\n",
              "      <th>V100</th>\n",
              "    </tr>\n",
              "    <tr>\n",
              "      <th>Class</th>\n",
              "      <th></th>\n",
              "      <th></th>\n",
              "      <th></th>\n",
              "      <th></th>\n",
              "      <th></th>\n",
              "      <th></th>\n",
              "      <th></th>\n",
              "      <th></th>\n",
              "      <th></th>\n",
              "      <th></th>\n",
              "      <th></th>\n",
              "      <th></th>\n",
              "      <th></th>\n",
              "      <th></th>\n",
              "      <th></th>\n",
              "      <th></th>\n",
              "      <th></th>\n",
              "      <th></th>\n",
              "      <th></th>\n",
              "      <th></th>\n",
              "      <th></th>\n",
              "    </tr>\n",
              "  </thead>\n",
              "  <tbody>\n",
              "    <tr>\n",
              "      <th>0</th>\n",
              "      <td>7913.333251</td>\n",
              "      <td>7825.339967</td>\n",
              "      <td>7902.497294</td>\n",
              "      <td>7857.032079</td>\n",
              "      <td>7775.610198</td>\n",
              "      <td>7875.436337</td>\n",
              "      <td>7804.166584</td>\n",
              "      <td>7722.324802</td>\n",
              "      <td>7793.328416</td>\n",
              "      <td>7686.782046</td>\n",
              "      <td>...</td>\n",
              "      <td>7753.427244</td>\n",
              "      <td>7737.843366</td>\n",
              "      <td>7799.332079</td>\n",
              "      <td>7825.211700</td>\n",
              "      <td>7791.354010</td>\n",
              "      <td>7927.237112</td>\n",
              "      <td>7874.502343</td>\n",
              "      <td>7844.227459</td>\n",
              "      <td>7875.338713</td>\n",
              "      <td>7855.181172</td>\n",
              "    </tr>\n",
              "    <tr>\n",
              "      <th>1</th>\n",
              "      <td>8424.850512</td>\n",
              "      <td>8463.272558</td>\n",
              "      <td>8482.810182</td>\n",
              "      <td>8496.705396</td>\n",
              "      <td>8480.984224</td>\n",
              "      <td>8470.623680</td>\n",
              "      <td>8572.998911</td>\n",
              "      <td>8644.958284</td>\n",
              "      <td>8516.011716</td>\n",
              "      <td>8554.753102</td>\n",
              "      <td>...</td>\n",
              "      <td>8478.513399</td>\n",
              "      <td>8502.270264</td>\n",
              "      <td>8452.502739</td>\n",
              "      <td>8492.375924</td>\n",
              "      <td>8490.416832</td>\n",
              "      <td>8499.724109</td>\n",
              "      <td>8496.685660</td>\n",
              "      <td>8436.163251</td>\n",
              "      <td>8510.583069</td>\n",
              "      <td>8457.213581</td>\n",
              "    </tr>\n",
              "  </tbody>\n",
              "</table>\n",
              "<p>2 rows × 100 columns</p>\n",
              "</div>\n",
              "      <button class=\"colab-df-convert\" onclick=\"convertToInteractive('df-4f6fd8bf-6bee-4d74-978d-2d81488bca85')\"\n",
              "              title=\"Convert this dataframe to an interactive table.\"\n",
              "              style=\"display:none;\">\n",
              "        \n",
              "  <svg xmlns=\"http://www.w3.org/2000/svg\" height=\"24px\"viewBox=\"0 0 24 24\"\n",
              "       width=\"24px\">\n",
              "    <path d=\"M0 0h24v24H0V0z\" fill=\"none\"/>\n",
              "    <path d=\"M18.56 5.44l.94 2.06.94-2.06 2.06-.94-2.06-.94-.94-2.06-.94 2.06-2.06.94zm-11 1L8.5 8.5l.94-2.06 2.06-.94-2.06-.94L8.5 2.5l-.94 2.06-2.06.94zm10 10l.94 2.06.94-2.06 2.06-.94-2.06-.94-.94-2.06-.94 2.06-2.06.94z\"/><path d=\"M17.41 7.96l-1.37-1.37c-.4-.4-.92-.59-1.43-.59-.52 0-1.04.2-1.43.59L10.3 9.45l-7.72 7.72c-.78.78-.78 2.05 0 2.83L4 21.41c.39.39.9.59 1.41.59.51 0 1.02-.2 1.41-.59l7.78-7.78 2.81-2.81c.8-.78.8-2.07 0-2.86zM5.41 20L4 18.59l7.72-7.72 1.47 1.35L5.41 20z\"/>\n",
              "  </svg>\n",
              "      </button>\n",
              "      \n",
              "  <style>\n",
              "    .colab-df-container {\n",
              "      display:flex;\n",
              "      flex-wrap:wrap;\n",
              "      gap: 12px;\n",
              "    }\n",
              "\n",
              "    .colab-df-convert {\n",
              "      background-color: #E8F0FE;\n",
              "      border: none;\n",
              "      border-radius: 50%;\n",
              "      cursor: pointer;\n",
              "      display: none;\n",
              "      fill: #1967D2;\n",
              "      height: 32px;\n",
              "      padding: 0 0 0 0;\n",
              "      width: 32px;\n",
              "    }\n",
              "\n",
              "    .colab-df-convert:hover {\n",
              "      background-color: #E2EBFA;\n",
              "      box-shadow: 0px 1px 2px rgba(60, 64, 67, 0.3), 0px 1px 3px 1px rgba(60, 64, 67, 0.15);\n",
              "      fill: #174EA6;\n",
              "    }\n",
              "\n",
              "    [theme=dark] .colab-df-convert {\n",
              "      background-color: #3B4455;\n",
              "      fill: #D2E3FC;\n",
              "    }\n",
              "\n",
              "    [theme=dark] .colab-df-convert:hover {\n",
              "      background-color: #434B5C;\n",
              "      box-shadow: 0px 1px 3px 1px rgba(0, 0, 0, 0.15);\n",
              "      filter: drop-shadow(0px 1px 2px rgba(0, 0, 0, 0.3));\n",
              "      fill: #FFFFFF;\n",
              "    }\n",
              "  </style>\n",
              "\n",
              "      <script>\n",
              "        const buttonEl =\n",
              "          document.querySelector('#df-4f6fd8bf-6bee-4d74-978d-2d81488bca85 button.colab-df-convert');\n",
              "        buttonEl.style.display =\n",
              "          google.colab.kernel.accessAllowed ? 'block' : 'none';\n",
              "\n",
              "        async function convertToInteractive(key) {\n",
              "          const element = document.querySelector('#df-4f6fd8bf-6bee-4d74-978d-2d81488bca85');\n",
              "          const dataTable =\n",
              "            await google.colab.kernel.invokeFunction('convertToInteractive',\n",
              "                                                     [key], {});\n",
              "          if (!dataTable) return;\n",
              "\n",
              "          const docLinkHtml = 'Like what you see? Visit the ' +\n",
              "            '<a target=\"_blank\" href=https://colab.research.google.com/notebooks/data_table.ipynb>data table notebook</a>'\n",
              "            + ' to learn more about interactive tables.';\n",
              "          element.innerHTML = '';\n",
              "          dataTable['output_type'] = 'display_data';\n",
              "          await google.colab.output.renderOutput(dataTable, element);\n",
              "          const docLink = document.createElement('div');\n",
              "          docLink.innerHTML = docLinkHtml;\n",
              "          element.appendChild(docLink);\n",
              "        }\n",
              "      </script>\n",
              "    </div>\n",
              "  </div>\n",
              "  "
            ]
          },
          "metadata": {},
          "execution_count": 12
        }
      ]
    },
    {
      "cell_type": "code",
      "source": [
        "y=df['Class']"
      ],
      "metadata": {
        "id": "XC-BStGSwHf6"
      },
      "execution_count": 55,
      "outputs": []
    },
    {
      "cell_type": "code",
      "source": [
        "y.shape"
      ],
      "metadata": {
        "colab": {
          "base_uri": "https://localhost:8080/"
        },
        "id": "BwhTauwtwHin",
        "outputId": "6152d782-4ba2-489a-8178-d0ef08e5d197"
      },
      "execution_count": 56,
      "outputs": [
        {
          "output_type": "execute_result",
          "data": {
            "text/plain": [
              "(1212,)"
            ]
          },
          "metadata": {},
          "execution_count": 56
        }
      ]
    },
    {
      "cell_type": "code",
      "source": [
        "y"
      ],
      "metadata": {
        "colab": {
          "base_uri": "https://localhost:8080/"
        },
        "id": "oA0ykEVZwHlK",
        "outputId": "f3fa31d5-c096-4ad1-82b4-4581442eb33b"
      },
      "execution_count": 57,
      "outputs": [
        {
          "output_type": "execute_result",
          "data": {
            "text/plain": [
              "0       0\n",
              "1       1\n",
              "2       1\n",
              "3       0\n",
              "4       0\n",
              "       ..\n",
              "1207    1\n",
              "1208    0\n",
              "1209    1\n",
              "1210    1\n",
              "1211    0\n",
              "Name: Class, Length: 1212, dtype: int64"
            ]
          },
          "metadata": {},
          "execution_count": 57
        }
      ]
    },
    {
      "cell_type": "code",
      "source": [
        "X=df[['V1', 'V2', 'V3', 'V4', 'V5', 'V6', 'V7', 'V8', 'V9', 'V10', 'V11', 'V12', 'V13', 'V14', 'V15', 'V16', 'V17', 'V18', 'V19', 'V20', 'V21', 'V22', 'V23', 'V24', 'V25', 'V26', 'V27', 'V28', 'V29', 'V30', 'V31', 'V32', 'V33', 'V34', 'V35', 'V36', 'V37', 'V38', 'V39', 'V40', 'V41', 'V42', 'V43', 'V44', 'V45', 'V46', 'V47', 'V48', 'V49', 'V50', 'V51', 'V52', 'V53', 'V54', 'V55', 'V56', 'V57', 'V58', 'V59', 'V60', 'V61', 'V62', 'V63', 'V64', 'V65', 'V66', 'V67', 'V68', 'V69', 'V70', 'V71', 'V72', 'V73', 'V74', 'V75', 'V76', 'V77', 'V78', 'V79', 'V80', 'V81', 'V82', 'V83', 'V84', 'V85', 'V86', 'V87', 'V88', 'V89', 'V90', 'V91', 'V92', 'V93', 'V94', 'V95', 'V96', 'V97', 'V98', 'V99', 'V100', 'Class']]"
      ],
      "metadata": {
        "id": "rNnNC3afwHnz"
      },
      "execution_count": 60,
      "outputs": []
    },
    {
      "cell_type": "code",
      "source": [
        "X = df.drop(['Class'], axis=1)"
      ],
      "metadata": {
        "id": "NZG8RHaHwHqF"
      },
      "execution_count": 18,
      "outputs": []
    },
    {
      "cell_type": "code",
      "source": [
        "X.shape"
      ],
      "metadata": {
        "colab": {
          "base_uri": "https://localhost:8080/"
        },
        "id": "EeNDp9VewHsk",
        "outputId": "a243202c-7591-4193-ccb3-6d2cc4dbe99f"
      },
      "execution_count": 20,
      "outputs": [
        {
          "output_type": "execute_result",
          "data": {
            "text/plain": [
              "(1212, 101)"
            ]
          },
          "metadata": {},
          "execution_count": 20
        }
      ]
    },
    {
      "cell_type": "code",
      "source": [
        "X"
      ],
      "metadata": {
        "colab": {
          "base_uri": "https://localhost:8080/",
          "height": 488
        },
        "id": "1h3GqW57wHvH",
        "outputId": "7246ad15-6305-46c8-b14d-00ffb4846281"
      },
      "execution_count": 21,
      "outputs": [
        {
          "output_type": "execute_result",
          "data": {
            "text/plain": [
              "            V1        V2        V3        V4        V5        V6        V7  \\\n",
              "0        39.02     36.49     38.20     38.85     39.38     39.74     37.02   \n",
              "1         1.83      1.71      1.77      1.77      1.68      1.78      1.80   \n",
              "2     68177.69  66138.42  72981.88  74304.33  67549.66  69367.34  69169.41   \n",
              "3     44889.06  39191.86  40728.46  38576.36  45876.06  47034.00  46611.43   \n",
              "4         5.70      5.40      5.28      5.38      5.27      5.61      6.00   \n",
              "...        ...       ...       ...       ...       ...       ...       ...   \n",
              "1207     13.00     12.87     13.27     13.04     13.19     12.53     14.31   \n",
              "1208     48.66     50.11     48.55     50.43     50.09     49.67     48.95   \n",
              "1209  10160.65   9048.63   8994.94   9514.39   9814.74  10195.24  10031.47   \n",
              "1210     34.81     35.07     34.98     32.37     34.16     34.03     33.31   \n",
              "1211   8489.43   7672.98   9132.14   7985.73   8226.85   8554.28   8838.87   \n",
              "\n",
              "            V8        V9       V10  ...       V92       V93       V94  \\\n",
              "0        39.53     38.81     38.79  ...     36.62     36.92     38.80   \n",
              "1         1.70      1.75      1.78  ...      1.80      1.79      1.77   \n",
              "2     73268.61  74465.84  72503.37  ...  73438.88  71053.35  71112.62   \n",
              "3     37668.32  40980.89  38466.15  ...  42625.67  40684.20  46960.73   \n",
              "4         5.38      5.34      5.87  ...      5.17      5.67      5.60   \n",
              "...        ...       ...       ...  ...       ...       ...       ...   \n",
              "1207     13.33     13.63     14.55  ...     12.48     12.15     13.15   \n",
              "1208     48.65     48.63     48.61  ...     46.93     49.61     47.16   \n",
              "1209  10202.28   9152.99   9591.75  ...   9068.11   9191.80   9275.04   \n",
              "1210     32.48     35.63     32.48  ...     32.76     35.03     32.89   \n",
              "1211   8967.24   8635.14   8544.37  ...   8609.73   9209.48   8496.33   \n",
              "\n",
              "           V95       V96       V97       V98       V99      V100  Class  \n",
              "0        38.52     38.07     36.73     39.46     37.50     39.10      0  \n",
              "1         1.74      1.74      1.80      1.78      1.75      1.69      1  \n",
              "2     74916.48  72571.58  66348.97  71063.72  67404.27  74920.24      1  \n",
              "3     44546.80  45410.53  47139.44  43095.68  40888.34  39615.19      0  \n",
              "4         5.94      5.73      5.22      5.30      5.73      5.91      0  \n",
              "...        ...       ...       ...       ...       ...       ...    ...  \n",
              "1207     12.35     13.58     13.86     12.88     13.87     13.51      1  \n",
              "1208     48.17     47.94     49.81     49.89     47.43     47.77      0  \n",
              "1209   9848.18   9074.17   9601.74  10366.24   8997.60   9305.77      1  \n",
              "1210     31.91     33.85     35.28     32.49     32.83     34.82      1  \n",
              "1211   8724.01   8219.99   8550.86   8679.43   8389.31   8712.80      0  \n",
              "\n",
              "[1212 rows x 101 columns]"
            ],
            "text/html": [
              "\n",
              "  <div id=\"df-224ea303-492c-4d42-8d7c-5b026702f23d\">\n",
              "    <div class=\"colab-df-container\">\n",
              "      <div>\n",
              "<style scoped>\n",
              "    .dataframe tbody tr th:only-of-type {\n",
              "        vertical-align: middle;\n",
              "    }\n",
              "\n",
              "    .dataframe tbody tr th {\n",
              "        vertical-align: top;\n",
              "    }\n",
              "\n",
              "    .dataframe thead th {\n",
              "        text-align: right;\n",
              "    }\n",
              "</style>\n",
              "<table border=\"1\" class=\"dataframe\">\n",
              "  <thead>\n",
              "    <tr style=\"text-align: right;\">\n",
              "      <th></th>\n",
              "      <th>V1</th>\n",
              "      <th>V2</th>\n",
              "      <th>V3</th>\n",
              "      <th>V4</th>\n",
              "      <th>V5</th>\n",
              "      <th>V6</th>\n",
              "      <th>V7</th>\n",
              "      <th>V8</th>\n",
              "      <th>V9</th>\n",
              "      <th>V10</th>\n",
              "      <th>...</th>\n",
              "      <th>V92</th>\n",
              "      <th>V93</th>\n",
              "      <th>V94</th>\n",
              "      <th>V95</th>\n",
              "      <th>V96</th>\n",
              "      <th>V97</th>\n",
              "      <th>V98</th>\n",
              "      <th>V99</th>\n",
              "      <th>V100</th>\n",
              "      <th>Class</th>\n",
              "    </tr>\n",
              "  </thead>\n",
              "  <tbody>\n",
              "    <tr>\n",
              "      <th>0</th>\n",
              "      <td>39.02</td>\n",
              "      <td>36.49</td>\n",
              "      <td>38.20</td>\n",
              "      <td>38.85</td>\n",
              "      <td>39.38</td>\n",
              "      <td>39.74</td>\n",
              "      <td>37.02</td>\n",
              "      <td>39.53</td>\n",
              "      <td>38.81</td>\n",
              "      <td>38.79</td>\n",
              "      <td>...</td>\n",
              "      <td>36.62</td>\n",
              "      <td>36.92</td>\n",
              "      <td>38.80</td>\n",
              "      <td>38.52</td>\n",
              "      <td>38.07</td>\n",
              "      <td>36.73</td>\n",
              "      <td>39.46</td>\n",
              "      <td>37.50</td>\n",
              "      <td>39.10</td>\n",
              "      <td>0</td>\n",
              "    </tr>\n",
              "    <tr>\n",
              "      <th>1</th>\n",
              "      <td>1.83</td>\n",
              "      <td>1.71</td>\n",
              "      <td>1.77</td>\n",
              "      <td>1.77</td>\n",
              "      <td>1.68</td>\n",
              "      <td>1.78</td>\n",
              "      <td>1.80</td>\n",
              "      <td>1.70</td>\n",
              "      <td>1.75</td>\n",
              "      <td>1.78</td>\n",
              "      <td>...</td>\n",
              "      <td>1.80</td>\n",
              "      <td>1.79</td>\n",
              "      <td>1.77</td>\n",
              "      <td>1.74</td>\n",
              "      <td>1.74</td>\n",
              "      <td>1.80</td>\n",
              "      <td>1.78</td>\n",
              "      <td>1.75</td>\n",
              "      <td>1.69</td>\n",
              "      <td>1</td>\n",
              "    </tr>\n",
              "    <tr>\n",
              "      <th>2</th>\n",
              "      <td>68177.69</td>\n",
              "      <td>66138.42</td>\n",
              "      <td>72981.88</td>\n",
              "      <td>74304.33</td>\n",
              "      <td>67549.66</td>\n",
              "      <td>69367.34</td>\n",
              "      <td>69169.41</td>\n",
              "      <td>73268.61</td>\n",
              "      <td>74465.84</td>\n",
              "      <td>72503.37</td>\n",
              "      <td>...</td>\n",
              "      <td>73438.88</td>\n",
              "      <td>71053.35</td>\n",
              "      <td>71112.62</td>\n",
              "      <td>74916.48</td>\n",
              "      <td>72571.58</td>\n",
              "      <td>66348.97</td>\n",
              "      <td>71063.72</td>\n",
              "      <td>67404.27</td>\n",
              "      <td>74920.24</td>\n",
              "      <td>1</td>\n",
              "    </tr>\n",
              "    <tr>\n",
              "      <th>3</th>\n",
              "      <td>44889.06</td>\n",
              "      <td>39191.86</td>\n",
              "      <td>40728.46</td>\n",
              "      <td>38576.36</td>\n",
              "      <td>45876.06</td>\n",
              "      <td>47034.00</td>\n",
              "      <td>46611.43</td>\n",
              "      <td>37668.32</td>\n",
              "      <td>40980.89</td>\n",
              "      <td>38466.15</td>\n",
              "      <td>...</td>\n",
              "      <td>42625.67</td>\n",
              "      <td>40684.20</td>\n",
              "      <td>46960.73</td>\n",
              "      <td>44546.80</td>\n",
              "      <td>45410.53</td>\n",
              "      <td>47139.44</td>\n",
              "      <td>43095.68</td>\n",
              "      <td>40888.34</td>\n",
              "      <td>39615.19</td>\n",
              "      <td>0</td>\n",
              "    </tr>\n",
              "    <tr>\n",
              "      <th>4</th>\n",
              "      <td>5.70</td>\n",
              "      <td>5.40</td>\n",
              "      <td>5.28</td>\n",
              "      <td>5.38</td>\n",
              "      <td>5.27</td>\n",
              "      <td>5.61</td>\n",
              "      <td>6.00</td>\n",
              "      <td>5.38</td>\n",
              "      <td>5.34</td>\n",
              "      <td>5.87</td>\n",
              "      <td>...</td>\n",
              "      <td>5.17</td>\n",
              "      <td>5.67</td>\n",
              "      <td>5.60</td>\n",
              "      <td>5.94</td>\n",
              "      <td>5.73</td>\n",
              "      <td>5.22</td>\n",
              "      <td>5.30</td>\n",
              "      <td>5.73</td>\n",
              "      <td>5.91</td>\n",
              "      <td>0</td>\n",
              "    </tr>\n",
              "    <tr>\n",
              "      <th>...</th>\n",
              "      <td>...</td>\n",
              "      <td>...</td>\n",
              "      <td>...</td>\n",
              "      <td>...</td>\n",
              "      <td>...</td>\n",
              "      <td>...</td>\n",
              "      <td>...</td>\n",
              "      <td>...</td>\n",
              "      <td>...</td>\n",
              "      <td>...</td>\n",
              "      <td>...</td>\n",
              "      <td>...</td>\n",
              "      <td>...</td>\n",
              "      <td>...</td>\n",
              "      <td>...</td>\n",
              "      <td>...</td>\n",
              "      <td>...</td>\n",
              "      <td>...</td>\n",
              "      <td>...</td>\n",
              "      <td>...</td>\n",
              "      <td>...</td>\n",
              "    </tr>\n",
              "    <tr>\n",
              "      <th>1207</th>\n",
              "      <td>13.00</td>\n",
              "      <td>12.87</td>\n",
              "      <td>13.27</td>\n",
              "      <td>13.04</td>\n",
              "      <td>13.19</td>\n",
              "      <td>12.53</td>\n",
              "      <td>14.31</td>\n",
              "      <td>13.33</td>\n",
              "      <td>13.63</td>\n",
              "      <td>14.55</td>\n",
              "      <td>...</td>\n",
              "      <td>12.48</td>\n",
              "      <td>12.15</td>\n",
              "      <td>13.15</td>\n",
              "      <td>12.35</td>\n",
              "      <td>13.58</td>\n",
              "      <td>13.86</td>\n",
              "      <td>12.88</td>\n",
              "      <td>13.87</td>\n",
              "      <td>13.51</td>\n",
              "      <td>1</td>\n",
              "    </tr>\n",
              "    <tr>\n",
              "      <th>1208</th>\n",
              "      <td>48.66</td>\n",
              "      <td>50.11</td>\n",
              "      <td>48.55</td>\n",
              "      <td>50.43</td>\n",
              "      <td>50.09</td>\n",
              "      <td>49.67</td>\n",
              "      <td>48.95</td>\n",
              "      <td>48.65</td>\n",
              "      <td>48.63</td>\n",
              "      <td>48.61</td>\n",
              "      <td>...</td>\n",
              "      <td>46.93</td>\n",
              "      <td>49.61</td>\n",
              "      <td>47.16</td>\n",
              "      <td>48.17</td>\n",
              "      <td>47.94</td>\n",
              "      <td>49.81</td>\n",
              "      <td>49.89</td>\n",
              "      <td>47.43</td>\n",
              "      <td>47.77</td>\n",
              "      <td>0</td>\n",
              "    </tr>\n",
              "    <tr>\n",
              "      <th>1209</th>\n",
              "      <td>10160.65</td>\n",
              "      <td>9048.63</td>\n",
              "      <td>8994.94</td>\n",
              "      <td>9514.39</td>\n",
              "      <td>9814.74</td>\n",
              "      <td>10195.24</td>\n",
              "      <td>10031.47</td>\n",
              "      <td>10202.28</td>\n",
              "      <td>9152.99</td>\n",
              "      <td>9591.75</td>\n",
              "      <td>...</td>\n",
              "      <td>9068.11</td>\n",
              "      <td>9191.80</td>\n",
              "      <td>9275.04</td>\n",
              "      <td>9848.18</td>\n",
              "      <td>9074.17</td>\n",
              "      <td>9601.74</td>\n",
              "      <td>10366.24</td>\n",
              "      <td>8997.60</td>\n",
              "      <td>9305.77</td>\n",
              "      <td>1</td>\n",
              "    </tr>\n",
              "    <tr>\n",
              "      <th>1210</th>\n",
              "      <td>34.81</td>\n",
              "      <td>35.07</td>\n",
              "      <td>34.98</td>\n",
              "      <td>32.37</td>\n",
              "      <td>34.16</td>\n",
              "      <td>34.03</td>\n",
              "      <td>33.31</td>\n",
              "      <td>32.48</td>\n",
              "      <td>35.63</td>\n",
              "      <td>32.48</td>\n",
              "      <td>...</td>\n",
              "      <td>32.76</td>\n",
              "      <td>35.03</td>\n",
              "      <td>32.89</td>\n",
              "      <td>31.91</td>\n",
              "      <td>33.85</td>\n",
              "      <td>35.28</td>\n",
              "      <td>32.49</td>\n",
              "      <td>32.83</td>\n",
              "      <td>34.82</td>\n",
              "      <td>1</td>\n",
              "    </tr>\n",
              "    <tr>\n",
              "      <th>1211</th>\n",
              "      <td>8489.43</td>\n",
              "      <td>7672.98</td>\n",
              "      <td>9132.14</td>\n",
              "      <td>7985.73</td>\n",
              "      <td>8226.85</td>\n",
              "      <td>8554.28</td>\n",
              "      <td>8838.87</td>\n",
              "      <td>8967.24</td>\n",
              "      <td>8635.14</td>\n",
              "      <td>8544.37</td>\n",
              "      <td>...</td>\n",
              "      <td>8609.73</td>\n",
              "      <td>9209.48</td>\n",
              "      <td>8496.33</td>\n",
              "      <td>8724.01</td>\n",
              "      <td>8219.99</td>\n",
              "      <td>8550.86</td>\n",
              "      <td>8679.43</td>\n",
              "      <td>8389.31</td>\n",
              "      <td>8712.80</td>\n",
              "      <td>0</td>\n",
              "    </tr>\n",
              "  </tbody>\n",
              "</table>\n",
              "<p>1212 rows × 101 columns</p>\n",
              "</div>\n",
              "      <button class=\"colab-df-convert\" onclick=\"convertToInteractive('df-224ea303-492c-4d42-8d7c-5b026702f23d')\"\n",
              "              title=\"Convert this dataframe to an interactive table.\"\n",
              "              style=\"display:none;\">\n",
              "        \n",
              "  <svg xmlns=\"http://www.w3.org/2000/svg\" height=\"24px\"viewBox=\"0 0 24 24\"\n",
              "       width=\"24px\">\n",
              "    <path d=\"M0 0h24v24H0V0z\" fill=\"none\"/>\n",
              "    <path d=\"M18.56 5.44l.94 2.06.94-2.06 2.06-.94-2.06-.94-.94-2.06-.94 2.06-2.06.94zm-11 1L8.5 8.5l.94-2.06 2.06-.94-2.06-.94L8.5 2.5l-.94 2.06-2.06.94zm10 10l.94 2.06.94-2.06 2.06-.94-2.06-.94-.94-2.06-.94 2.06-2.06.94z\"/><path d=\"M17.41 7.96l-1.37-1.37c-.4-.4-.92-.59-1.43-.59-.52 0-1.04.2-1.43.59L10.3 9.45l-7.72 7.72c-.78.78-.78 2.05 0 2.83L4 21.41c.39.39.9.59 1.41.59.51 0 1.02-.2 1.41-.59l7.78-7.78 2.81-2.81c.8-.78.8-2.07 0-2.86zM5.41 20L4 18.59l7.72-7.72 1.47 1.35L5.41 20z\"/>\n",
              "  </svg>\n",
              "      </button>\n",
              "      \n",
              "  <style>\n",
              "    .colab-df-container {\n",
              "      display:flex;\n",
              "      flex-wrap:wrap;\n",
              "      gap: 12px;\n",
              "    }\n",
              "\n",
              "    .colab-df-convert {\n",
              "      background-color: #E8F0FE;\n",
              "      border: none;\n",
              "      border-radius: 50%;\n",
              "      cursor: pointer;\n",
              "      display: none;\n",
              "      fill: #1967D2;\n",
              "      height: 32px;\n",
              "      padding: 0 0 0 0;\n",
              "      width: 32px;\n",
              "    }\n",
              "\n",
              "    .colab-df-convert:hover {\n",
              "      background-color: #E2EBFA;\n",
              "      box-shadow: 0px 1px 2px rgba(60, 64, 67, 0.3), 0px 1px 3px 1px rgba(60, 64, 67, 0.15);\n",
              "      fill: #174EA6;\n",
              "    }\n",
              "\n",
              "    [theme=dark] .colab-df-convert {\n",
              "      background-color: #3B4455;\n",
              "      fill: #D2E3FC;\n",
              "    }\n",
              "\n",
              "    [theme=dark] .colab-df-convert:hover {\n",
              "      background-color: #434B5C;\n",
              "      box-shadow: 0px 1px 3px 1px rgba(0, 0, 0, 0.15);\n",
              "      filter: drop-shadow(0px 1px 2px rgba(0, 0, 0, 0.3));\n",
              "      fill: #FFFFFF;\n",
              "    }\n",
              "  </style>\n",
              "\n",
              "      <script>\n",
              "        const buttonEl =\n",
              "          document.querySelector('#df-224ea303-492c-4d42-8d7c-5b026702f23d button.colab-df-convert');\n",
              "        buttonEl.style.display =\n",
              "          google.colab.kernel.accessAllowed ? 'block' : 'none';\n",
              "\n",
              "        async function convertToInteractive(key) {\n",
              "          const element = document.querySelector('#df-224ea303-492c-4d42-8d7c-5b026702f23d');\n",
              "          const dataTable =\n",
              "            await google.colab.kernel.invokeFunction('convertToInteractive',\n",
              "                                                     [key], {});\n",
              "          if (!dataTable) return;\n",
              "\n",
              "          const docLinkHtml = 'Like what you see? Visit the ' +\n",
              "            '<a target=\"_blank\" href=https://colab.research.google.com/notebooks/data_table.ipynb>data table notebook</a>'\n",
              "            + ' to learn more about interactive tables.';\n",
              "          element.innerHTML = '';\n",
              "          dataTable['output_type'] = 'display_data';\n",
              "          await google.colab.output.renderOutput(dataTable, element);\n",
              "          const docLink = document.createElement('div');\n",
              "          docLink.innerHTML = docLinkHtml;\n",
              "          element.appendChild(docLink);\n",
              "        }\n",
              "      </script>\n",
              "    </div>\n",
              "  </div>\n",
              "  "
            ]
          },
          "metadata": {},
          "execution_count": 21
        }
      ]
    },
    {
      "cell_type": "code",
      "source": [
        "import matplotlib.pyplot as plt"
      ],
      "metadata": {
        "id": "-OaA_QXxwHxe"
      },
      "execution_count": 22,
      "outputs": []
    },
    {
      "cell_type": "code",
      "source": [
        "plt.plot(X.iloc[0,:])\n",
        "plt.title('Valley');"
      ],
      "metadata": {
        "colab": {
          "base_uri": "https://localhost:8080/",
          "height": 281
        },
        "id": "_USIBL3hwHz0",
        "outputId": "a23be89c-0562-4947-f42b-1f5ff652f6d5"
      },
      "execution_count": 61,
      "outputs": [
        {
          "output_type": "display_data",
          "data": {
            "text/plain": [
              "<Figure size 432x288 with 1 Axes>"
            ],
            "image/png": "[encoded data removed]"
          },
          "metadata": {
            "needs_background": "light"
          }
        }
      ]
    },
    {
      "cell_type": "code",
      "source": [
        "plt.plot(X.iloc[1,:])\n",
        "plt.title('Hill');"
      ],
      "metadata": {
        "colab": {
          "base_uri": "https://localhost:8080/",
          "height": 281
        },
        "id": "lYRbbak4wH2J",
        "outputId": "4844466d-8a6f-47b8-eed7-92798a053467"
      },
      "execution_count": 62,
      "outputs": [
        {
          "output_type": "display_data",
          "data": {
            "text/plain": [
              "<Figure size 432x288 with 1 Axes>"
            ],
            "image/png": "[encoded data removed]"
          },
          "metadata": {
            "needs_background": "light"
          }
        }
      ]
    },
    {
      "cell_type": "code",
      "source": [
        "from sklearn.preprocessing import StandardScaler"
      ],
      "metadata": {
        "id": "ue-SsIj5wH4b"
      },
      "execution_count": 26,
      "outputs": []
    },
    {
      "cell_type": "code",
      "source": [
        "ss = StandardScaler()\n",
        "X = ss.fit_transform(X)"
      ],
      "metadata": {
        "id": "za-_uaCLwH6p"
      },
      "execution_count": 27,
      "outputs": []
    },
    {
      "cell_type": "code",
      "source": [
        "X"
      ],
      "metadata": {
        "colab": {
          "base_uri": "https://localhost:8080/"
        },
        "id": "TmaK713DwH9P",
        "outputId": "3b4d5bc8-3def-498a-c9f8-ac4807dbdfed"
      },
      "execution_count": 28,
      "outputs": [
        {
          "output_type": "execute_result",
          "data": {
            "text/plain": [
              "array([[-0.45248681, -0.45361784, -0.45100881, ..., -0.45164274,\n",
              "        -0.45545496, -1.        ],\n",
              "       [-0.45455665, -0.45556372, -0.45302369, ..., -0.45362255,\n",
              "        -0.45755405,  1.        ],\n",
              "       [ 3.33983504,  3.24466709,  3.58338069, ...,  3.27907378,\n",
              "         3.74616847,  1.        ],\n",
              "       ...,\n",
              "       [ 0.11084204,  0.0505953 ,  0.04437307, ...,  0.04456025,\n",
              "         0.06450317,  1.        ],\n",
              "       [-0.45272112, -0.45369729, -0.45118691, ..., -0.45190136,\n",
              "        -0.45569511,  1.        ],\n",
              "       [ 0.01782872, -0.02636986,  0.05196137, ...,  0.01087365,\n",
              "         0.03123129, -1.        ]])"
            ]
          },
          "metadata": {},
          "execution_count": 28
        }
      ]
    },
    {
      "cell_type": "code",
      "source": [
        "X.shape"
      ],
      "metadata": {
        "colab": {
          "base_uri": "https://localhost:8080/"
        },
        "id": "PQgu1ZtZwH_w",
        "outputId": "25cc4a90-e45c-430e-864b-206bed73760d"
      },
      "execution_count": 29,
      "outputs": [
        {
          "output_type": "execute_result",
          "data": {
            "text/plain": [
              "(1212, 101)"
            ]
          },
          "metadata": {},
          "execution_count": 29
        }
      ]
    },
    {
      "cell_type": "code",
      "source": [
        "from sklearn.model_selection import train_test_split"
      ],
      "metadata": {
        "id": "wHHt9e8HwICo"
      },
      "execution_count": 30,
      "outputs": []
    },
    {
      "cell_type": "code",
      "source": [
        "X_train, X_test, y_train, y_test = train_test_split(X,y, test_size=0.3,stratify=y,random_state=192529)"
      ],
      "metadata": {
        "id": "G5EeYCCVwIFO"
      },
      "execution_count": 31,
      "outputs": []
    },
    {
      "cell_type": "code",
      "source": [
        "X_train.shape, X_test.shape, y_train.shape,y_test.shape"
      ],
      "metadata": {
        "colab": {
          "base_uri": "https://localhost:8080/"
        },
        "id": "qUjrIoK7wIHp",
        "outputId": "e85d2857-62d9-4597-80d0-7027fc9e2f8a"
      },
      "execution_count": 32,
      "outputs": [
        {
          "output_type": "execute_result",
          "data": {
            "text/plain": [
              "((848, 101), (364, 101), (848,), (364,))"
            ]
          },
          "metadata": {},
          "execution_count": 32
        }
      ]
    },
    {
      "cell_type": "code",
      "source": [
        "from sklearn.linear_model import LogisticRegression"
      ],
      "metadata": {
        "id": "j_o-PVH7wINM"
      },
      "execution_count": 33,
      "outputs": []
    },
    {
      "cell_type": "code",
      "source": [
        "lr = LogisticRegression()"
      ],
      "metadata": {
        "id": "B3a8VNE0wIP6"
      },
      "execution_count": 34,
      "outputs": []
    },
    {
      "cell_type": "code",
      "source": [
        "lr.fit(X_train, y_train)"
      ],
      "metadata": {
        "colab": {
          "base_uri": "https://localhost:8080/"
        },
        "id": "hm-DaJr2wISm",
        "outputId": "3421a643-1f84-4115-b653-2ed22f4859a7"
      },
      "execution_count": 35,
      "outputs": [
        {
          "output_type": "execute_result",
          "data": {
            "text/plain": [
              "LogisticRegression()"
            ]
          },
          "metadata": {},
          "execution_count": 35
        }
      ]
    },
    {
      "cell_type": "code",
      "source": [
        "y_pred=lr.predict(X_test)"
      ],
      "metadata": {
        "id": "IoB9lTL0wIVY"
      },
      "execution_count": 36,
      "outputs": []
    },
    {
      "cell_type": "code",
      "source": [
        "y_pred.shape"
      ],
      "metadata": {
        "colab": {
          "base_uri": "https://localhost:8080/"
        },
        "id": "tTB9aJdGwIYA",
        "outputId": "9dd963c4-28d6-45fe-a3e7-cd36215d5a02"
      },
      "execution_count": 37,
      "outputs": [
        {
          "output_type": "execute_result",
          "data": {
            "text/plain": [
              "(364,)"
            ]
          },
          "metadata": {},
          "execution_count": 37
        }
      ]
    },
    {
      "cell_type": "code",
      "source": [
        "y_pred"
      ],
      "metadata": {
        "colab": {
          "base_uri": "https://localhost:8080/"
        },
        "id": "LtfrR5LwwIa3",
        "outputId": "2c40150b-a21c-430a-89fd-930a385c1a93"
      },
      "execution_count": 38,
      "outputs": [
        {
          "output_type": "execute_result",
          "data": {
            "text/plain": [
              "array([1, 1, 1, 1, 1, 1, 0, 0, 1, 0, 1, 0, 1, 0, 1, 1, 1, 1, 1, 1, 1, 1,\n",
              "       1, 0, 0, 0, 1, 1, 0, 0, 0, 0, 0, 0, 1, 0, 1, 1, 0, 1, 0, 1, 0, 1,\n",
              "       1, 1, 0, 0, 1, 1, 0, 1, 0, 1, 0, 1, 1, 1, 1, 0, 0, 0, 0, 1, 0, 0,\n",
              "       0, 1, 0, 0, 0, 0, 1, 1, 0, 1, 0, 1, 1, 0, 1, 0, 1, 0, 1, 1, 1, 0,\n",
              "       1, 0, 0, 1, 0, 0, 0, 1, 1, 1, 0, 0, 0, 0, 0, 1, 1, 1, 1, 0, 0, 1,\n",
              "       1, 0, 1, 1, 1, 1, 0, 0, 0, 0, 0, 0, 0, 0, 1, 1, 1, 1, 1, 1, 0, 1,\n",
              "       1, 1, 0, 1, 0, 1, 1, 1, 1, 1, 0, 1, 1, 0, 1, 0, 0, 1, 1, 1, 0, 0,\n",
              "       0, 0, 0, 0, 0, 0, 1, 1, 1, 0, 0, 1, 0, 1, 0, 0, 1, 1, 1, 1, 1, 0,\n",
              "       1, 1, 1, 0, 1, 1, 1, 1, 0, 1, 0, 1, 1, 1, 1, 0, 0, 0, 1, 0, 1, 1,\n",
              "       1, 1, 0, 1, 1, 0, 1, 0, 1, 0, 0, 0, 0, 0, 1, 0, 0, 0, 0, 0, 1, 1,\n",
              "       0, 0, 0, 1, 0, 0, 0, 0, 1, 1, 0, 0, 1, 0, 1, 0, 1, 0, 1, 0, 0, 0,\n",
              "       0, 0, 0, 1, 1, 0, 0, 1, 0, 0, 0, 0, 1, 0, 1, 1, 0, 1, 1, 0, 1, 1,\n",
              "       1, 0, 1, 1, 1, 1, 1, 0, 1, 1, 0, 1, 0, 0, 0, 1, 0, 0, 0, 0, 0, 0,\n",
              "       1, 1, 0, 1, 0, 0, 1, 1, 1, 1, 0, 0, 1, 0, 0, 1, 1, 1, 1, 0, 0, 0,\n",
              "       1, 0, 1, 1, 1, 0, 1, 1, 1, 1, 0, 1, 0, 0, 1, 0, 1, 0, 1, 1, 0, 0,\n",
              "       1, 0, 0, 0, 1, 0, 1, 0, 0, 0, 0, 0, 0, 1, 1, 0, 1, 0, 0, 0, 1, 0,\n",
              "       1, 0, 0, 1, 0, 0, 0, 1, 1, 0, 0, 1])"
            ]
          },
          "metadata": {},
          "execution_count": 38
        }
      ]
    },
    {
      "cell_type": "code",
      "source": [
        "lr.predict_proba(X_test)"
      ],
      "metadata": {
        "id": "Fml447dXwIdY"
      },
      "execution_count": null,
      "outputs": []
    },
    {
      "cell_type": "code",
      "source": [
        "from sklearn.metrics import confusion_matrix, classification_report"
      ],
      "metadata": {
        "id": "mTCXypT3wImU"
      },
      "execution_count": 40,
      "outputs": []
    },
    {
      "cell_type": "code",
      "source": [
        "print(confusion_matrix(y_test,y_pred))"
      ],
      "metadata": {
        "colab": {
          "base_uri": "https://localhost:8080/"
        },
        "id": "RY32FvRJxpxX",
        "outputId": "0f01545e-0880-404a-c418-3cabf11b3edf"
      },
      "execution_count": 41,
      "outputs": [
        {
          "output_type": "stream",
          "name": "stdout",
          "text": [
            "[[182   0]\n",
            " [  0 182]]\n"
          ]
        }
      ]
    },
    {
      "cell_type": "code",
      "source": [
        "print(classification_report(y_test,y_pred))"
      ],
      "metadata": {
        "colab": {
          "base_uri": "https://localhost:8080/"
        },
        "id": "Ubxh2AmTxpz3",
        "outputId": "ddd4124b-b566-40f9-be1c-cb569001e7da"
      },
      "execution_count": 42,
      "outputs": [
        {
          "output_type": "stream",
          "name": "stdout",
          "text": [
            "              precision    recall  f1-score   support\n",
            "\n",
            "           0       1.00      1.00      1.00       182\n",
            "           1       1.00      1.00      1.00       182\n",
            "\n",
            "    accuracy                           1.00       364\n",
            "   macro avg       1.00      1.00      1.00       364\n",
            "weighted avg       1.00      1.00      1.00       364\n",
            "\n"
          ]
        }
      ]
    },
    {
      "cell_type": "code",
      "source": [
        "X_new = df.sample(1)"
      ],
      "metadata": {
        "id": "0uhM_aY1xp2P"
      },
      "execution_count": 43,
      "outputs": []
    },
    {
      "cell_type": "code",
      "source": [
        "X_new"
      ],
      "metadata": {
        "colab": {
          "base_uri": "https://localhost:8080/",
          "height": 174
        },
        "id": "t3pL6MTbxp4l",
        "outputId": "6eff0023-01b0-4371-bbc1-facd28d71aaf"
      },
      "execution_count": 44,
      "outputs": [
        {
          "output_type": "execute_result",
          "data": {
            "text/plain": [
              "           V1       V2       V3       V4       V5       V6       V7       V8  \\\n",
              "1024  1258.05  1155.43  1162.89  1126.13  1156.69  1114.54  1127.11  1273.04   \n",
              "\n",
              "           V9      V10  ...      V92      V93      V94      V95      V96  \\\n",
              "1024  1278.55  1184.27  ...  1101.24  1261.91  1133.83  1243.31  1224.15   \n",
              "\n",
              "          V97      V98      V99     V100  Class  \n",
              "1024  1171.15  1179.98  1266.96  1125.34      1  \n",
              "\n",
              "[1 rows x 101 columns]"
            ],
            "text/html": [
              "\n",
              "  <div id=\"df-a2b9ab36-350e-44ea-a7f4-e36c120efa4c\">\n",
              "    <div class=\"colab-df-container\">\n",
              "      <div>\n",
              "<style scoped>\n",
              "    .dataframe tbody tr th:only-of-type {\n",
              "        vertical-align: middle;\n",
              "    }\n",
              "\n",
              "    .dataframe tbody tr th {\n",
              "        vertical-align: top;\n",
              "    }\n",
              "\n",
              "    .dataframe thead th {\n",
              "        text-align: right;\n",
              "    }\n",
              "</style>\n",
              "<table border=\"1\" class=\"dataframe\">\n",
              "  <thead>\n",
              "    <tr style=\"text-align: right;\">\n",
              "      <th></th>\n",
              "      <th>V1</th>\n",
              "      <th>V2</th>\n",
              "      <th>V3</th>\n",
              "      <th>V4</th>\n",
              "      <th>V5</th>\n",
              "      <th>V6</th>\n",
              "      <th>V7</th>\n",
              "      <th>V8</th>\n",
              "      <th>V9</th>\n",
              "      <th>V10</th>\n",
              "      <th>...</th>\n",
              "      <th>V92</th>\n",
              "      <th>V93</th>\n",
              "      <th>V94</th>\n",
              "      <th>V95</th>\n",
              "      <th>V96</th>\n",
              "      <th>V97</th>\n",
              "      <th>V98</th>\n",
              "      <th>V99</th>\n",
              "      <th>V100</th>\n",
              "      <th>Class</th>\n",
              "    </tr>\n",
              "  </thead>\n",
              "  <tbody>\n",
              "    <tr>\n",
              "      <th>1024</th>\n",
              "      <td>1258.05</td>\n",
              "      <td>1155.43</td>\n",
              "      <td>1162.89</td>\n",
              "      <td>1126.13</td>\n",
              "      <td>1156.69</td>\n",
              "      <td>1114.54</td>\n",
              "      <td>1127.11</td>\n",
              "      <td>1273.04</td>\n",
              "      <td>1278.55</td>\n",
              "      <td>1184.27</td>\n",
              "      <td>...</td>\n",
              "      <td>1101.24</td>\n",
              "      <td>1261.91</td>\n",
              "      <td>1133.83</td>\n",
              "      <td>1243.31</td>\n",
              "      <td>1224.15</td>\n",
              "      <td>1171.15</td>\n",
              "      <td>1179.98</td>\n",
              "      <td>1266.96</td>\n",
              "      <td>1125.34</td>\n",
              "      <td>1</td>\n",
              "    </tr>\n",
              "  </tbody>\n",
              "</table>\n",
              "<p>1 rows × 101 columns</p>\n",
              "</div>\n",
              "      <button class=\"colab-df-convert\" onclick=\"convertToInteractive('df-a2b9ab36-350e-44ea-a7f4-e36c120efa4c')\"\n",
              "              title=\"Convert this dataframe to an interactive table.\"\n",
              "              style=\"display:none;\">\n",
              "        \n",
              "  <svg xmlns=\"http://www.w3.org/2000/svg\" height=\"24px\"viewBox=\"0 0 24 24\"\n",
              "       width=\"24px\">\n",
              "    <path d=\"M0 0h24v24H0V0z\" fill=\"none\"/>\n",
              "    <path d=\"M18.56 5.44l.94 2.06.94-2.06 2.06-.94-2.06-.94-.94-2.06-.94 2.06-2.06.94zm-11 1L8.5 8.5l.94-2.06 2.06-.94-2.06-.94L8.5 2.5l-.94 2.06-2.06.94zm10 10l.94 2.06.94-2.06 2.06-.94-2.06-.94-.94-2.06-.94 2.06-2.06.94z\"/><path d=\"M17.41 7.96l-1.37-1.37c-.4-.4-.92-.59-1.43-.59-.52 0-1.04.2-1.43.59L10.3 9.45l-7.72 7.72c-.78.78-.78 2.05 0 2.83L4 21.41c.39.39.9.59 1.41.59.51 0 1.02-.2 1.41-.59l7.78-7.78 2.81-2.81c.8-.78.8-2.07 0-2.86zM5.41 20L4 18.59l7.72-7.72 1.47 1.35L5.41 20z\"/>\n",
              "  </svg>\n",
              "      </button>\n",
              "      \n",
              "  <style>\n",
              "    .colab-df-container {\n",
              "      display:flex;\n",
              "      flex-wrap:wrap;\n",
              "      gap: 12px;\n",
              "    }\n",
              "\n",
              "    .colab-df-convert {\n",
              "      background-color: #E8F0FE;\n",
              "      border: none;\n",
              "      border-radius: 50%;\n",
              "      cursor: pointer;\n",
              "      display: none;\n",
              "      fill: #1967D2;\n",
              "      height: 32px;\n",
              "      padding: 0 0 0 0;\n",
              "      width: 32px;\n",
              "    }\n",
              "\n",
              "    .colab-df-convert:hover {\n",
              "      background-color: #E2EBFA;\n",
              "      box-shadow: 0px 1px 2px rgba(60, 64, 67, 0.3), 0px 1px 3px 1px rgba(60, 64, 67, 0.15);\n",
              "      fill: #174EA6;\n",
              "    }\n",
              "\n",
              "    [theme=dark] .colab-df-convert {\n",
              "      background-color: #3B4455;\n",
              "      fill: #D2E3FC;\n",
              "    }\n",
              "\n",
              "    [theme=dark] .colab-df-convert:hover {\n",
              "      background-color: #434B5C;\n",
              "      box-shadow: 0px 1px 3px 1px rgba(0, 0, 0, 0.15);\n",
              "      filter: drop-shadow(0px 1px 2px rgba(0, 0, 0, 0.3));\n",
              "      fill: #FFFFFF;\n",
              "    }\n",
              "  </style>\n",
              "\n",
              "      <script>\n",
              "        const buttonEl =\n",
              "          document.querySelector('#df-a2b9ab36-350e-44ea-a7f4-e36c120efa4c button.colab-df-convert');\n",
              "        buttonEl.style.display =\n",
              "          google.colab.kernel.accessAllowed ? 'block' : 'none';\n",
              "\n",
              "        async function convertToInteractive(key) {\n",
              "          const element = document.querySelector('#df-a2b9ab36-350e-44ea-a7f4-e36c120efa4c');\n",
              "          const dataTable =\n",
              "            await google.colab.kernel.invokeFunction('convertToInteractive',\n",
              "                                                     [key], {});\n",
              "          if (!dataTable) return;\n",
              "\n",
              "          const docLinkHtml = 'Like what you see? Visit the ' +\n",
              "            '<a target=\"_blank\" href=https://colab.research.google.com/notebooks/data_table.ipynb>data table notebook</a>'\n",
              "            + ' to learn more about interactive tables.';\n",
              "          element.innerHTML = '';\n",
              "          dataTable['output_type'] = 'display_data';\n",
              "          await google.colab.output.renderOutput(dataTable, element);\n",
              "          const docLink = document.createElement('div');\n",
              "          docLink.innerHTML = docLinkHtml;\n",
              "          element.appendChild(docLink);\n",
              "        }\n",
              "      </script>\n",
              "    </div>\n",
              "  </div>\n",
              "  "
            ]
          },
          "metadata": {},
          "execution_count": 44
        }
      ]
    },
    {
      "cell_type": "code",
      "source": [
        "X_new.shape"
      ],
      "metadata": {
        "colab": {
          "base_uri": "https://localhost:8080/"
        },
        "id": "rOYetRMXxp7A",
        "outputId": "f16c7a29-d041-419b-dc50-ae7fa65d9e7c"
      },
      "execution_count": 45,
      "outputs": [
        {
          "output_type": "execute_result",
          "data": {
            "text/plain": [
              "(1, 101)"
            ]
          },
          "metadata": {},
          "execution_count": 45
        }
      ]
    },
    {
      "cell_type": "code",
      "source": [
        "X_new=X_new.drop('Class', axis=1)"
      ],
      "metadata": {
        "id": "fJIQRlYkxp9B"
      },
      "execution_count": 46,
      "outputs": []
    },
    {
      "cell_type": "code",
      "source": [
        "X_new"
      ],
      "metadata": {
        "colab": {
          "base_uri": "https://localhost:8080/",
          "height": 174
        },
        "id": "cDvFHh5exp_l",
        "outputId": "a8222071-399d-4eb5-c534-324257e0622e"
      },
      "execution_count": 47,
      "outputs": [
        {
          "output_type": "execute_result",
          "data": {
            "text/plain": [
              "           V1       V2       V3       V4       V5       V6       V7       V8  \\\n",
              "1024  1258.05  1155.43  1162.89  1126.13  1156.69  1114.54  1127.11  1273.04   \n",
              "\n",
              "           V9      V10  ...      V91      V92      V93      V94      V95  \\\n",
              "1024  1278.55  1184.27  ...  1166.17  1101.24  1261.91  1133.83  1243.31   \n",
              "\n",
              "          V96      V97      V98      V99     V100  \n",
              "1024  1224.15  1171.15  1179.98  1266.96  1125.34  \n",
              "\n",
              "[1 rows x 100 columns]"
            ],
            "text/html": [
              "\n",
              "  <div id=\"df-8f6c2d86-f588-42a1-887d-232cd65afdb3\">\n",
              "    <div class=\"colab-df-container\">\n",
              "      <div>\n",
              "<style scoped>\n",
              "    .dataframe tbody tr th:only-of-type {\n",
              "        vertical-align: middle;\n",
              "    }\n",
              "\n",
              "    .dataframe tbody tr th {\n",
              "        vertical-align: top;\n",
              "    }\n",
              "\n",
              "    .dataframe thead th {\n",
              "        text-align: right;\n",
              "    }\n",
              "</style>\n",
              "<table border=\"1\" class=\"dataframe\">\n",
              "  <thead>\n",
              "    <tr style=\"text-align: right;\">\n",
              "      <th></th>\n",
              "      <th>V1</th>\n",
              "      <th>V2</th>\n",
              "      <th>V3</th>\n",
              "      <th>V4</th>\n",
              "      <th>V5</th>\n",
              "      <th>V6</th>\n",
              "      <th>V7</th>\n",
              "      <th>V8</th>\n",
              "      <th>V9</th>\n",
              "      <th>V10</th>\n",
              "      <th>...</th>\n",
              "      <th>V91</th>\n",
              "      <th>V92</th>\n",
              "      <th>V93</th>\n",
              "      <th>V94</th>\n",
              "      <th>V95</th>\n",
              "      <th>V96</th>\n",
              "      <th>V97</th>\n",
              "      <th>V98</th>\n",
              "      <th>V99</th>\n",
              "      <th>V100</th>\n",
              "    </tr>\n",
              "  </thead>\n",
              "  <tbody>\n",
              "    <tr>\n",
              "      <th>1024</th>\n",
              "      <td>1258.05</td>\n",
              "      <td>1155.43</td>\n",
              "      <td>1162.89</td>\n",
              "      <td>1126.13</td>\n",
              "      <td>1156.69</td>\n",
              "      <td>1114.54</td>\n",
              "      <td>1127.11</td>\n",
              "      <td>1273.04</td>\n",
              "      <td>1278.55</td>\n",
              "      <td>1184.27</td>\n",
              "      <td>...</td>\n",
              "      <td>1166.17</td>\n",
              "      <td>1101.24</td>\n",
              "      <td>1261.91</td>\n",
              "      <td>1133.83</td>\n",
              "      <td>1243.31</td>\n",
              "      <td>1224.15</td>\n",
              "      <td>1171.15</td>\n",
              "      <td>1179.98</td>\n",
              "      <td>1266.96</td>\n",
              "      <td>1125.34</td>\n",
              "    </tr>\n",
              "  </tbody>\n",
              "</table>\n",
              "<p>1 rows × 100 columns</p>\n",
              "</div>\n",
              "      <button class=\"colab-df-convert\" onclick=\"convertToInteractive('df-8f6c2d86-f588-42a1-887d-232cd65afdb3')\"\n",
              "              title=\"Convert this dataframe to an interactive table.\"\n",
              "              style=\"display:none;\">\n",
              "        \n",
              "  <svg xmlns=\"http://www.w3.org/2000/svg\" height=\"24px\"viewBox=\"0 0 24 24\"\n",
              "       width=\"24px\">\n",
              "    <path d=\"M0 0h24v24H0V0z\" fill=\"none\"/>\n",
              "    <path d=\"M18.56 5.44l.94 2.06.94-2.06 2.06-.94-2.06-.94-.94-2.06-.94 2.06-2.06.94zm-11 1L8.5 8.5l.94-2.06 2.06-.94-2.06-.94L8.5 2.5l-.94 2.06-2.06.94zm10 10l.94 2.06.94-2.06 2.06-.94-2.06-.94-.94-2.06-.94 2.06-2.06.94z\"/><path d=\"M17.41 7.96l-1.37-1.37c-.4-.4-.92-.59-1.43-.59-.52 0-1.04.2-1.43.59L10.3 9.45l-7.72 7.72c-.78.78-.78 2.05 0 2.83L4 21.41c.39.39.9.59 1.41.59.51 0 1.02-.2 1.41-.59l7.78-7.78 2.81-2.81c.8-.78.8-2.07 0-2.86zM5.41 20L4 18.59l7.72-7.72 1.47 1.35L5.41 20z\"/>\n",
              "  </svg>\n",
              "      </button>\n",
              "      \n",
              "  <style>\n",
              "    .colab-df-container {\n",
              "      display:flex;\n",
              "      flex-wrap:wrap;\n",
              "      gap: 12px;\n",
              "    }\n",
              "\n",
              "    .colab-df-convert {\n",
              "      background-color: #E8F0FE;\n",
              "      border: none;\n",
              "      border-radius: 50%;\n",
              "      cursor: pointer;\n",
              "      display: none;\n",
              "      fill: #1967D2;\n",
              "      height: 32px;\n",
              "      padding: 0 0 0 0;\n",
              "      width: 32px;\n",
              "    }\n",
              "\n",
              "    .colab-df-convert:hover {\n",
              "      background-color: #E2EBFA;\n",
              "      box-shadow: 0px 1px 2px rgba(60, 64, 67, 0.3), 0px 1px 3px 1px rgba(60, 64, 67, 0.15);\n",
              "      fill: #174EA6;\n",
              "    }\n",
              "\n",
              "    [theme=dark] .colab-df-convert {\n",
              "      background-color: #3B4455;\n",
              "      fill: #D2E3FC;\n",
              "    }\n",
              "\n",
              "    [theme=dark] .colab-df-convert:hover {\n",
              "      background-color: #434B5C;\n",
              "      box-shadow: 0px 1px 3px 1px rgba(0, 0, 0, 0.15);\n",
              "      filter: drop-shadow(0px 1px 2px rgba(0, 0, 0, 0.3));\n",
              "      fill: #FFFFFF;\n",
              "    }\n",
              "  </style>\n",
              "\n",
              "      <script>\n",
              "        const buttonEl =\n",
              "          document.querySelector('#df-8f6c2d86-f588-42a1-887d-232cd65afdb3 button.colab-df-convert');\n",
              "        buttonEl.style.display =\n",
              "          google.colab.kernel.accessAllowed ? 'block' : 'none';\n",
              "\n",
              "        async function convertToInteractive(key) {\n",
              "          const element = document.querySelector('#df-8f6c2d86-f588-42a1-887d-232cd65afdb3');\n",
              "          const dataTable =\n",
              "            await google.colab.kernel.invokeFunction('convertToInteractive',\n",
              "                                                     [key], {});\n",
              "          if (!dataTable) return;\n",
              "\n",
              "          const docLinkHtml = 'Like what you see? Visit the ' +\n",
              "            '<a target=\"_blank\" href=https://colab.research.google.com/notebooks/data_table.ipynb>data table notebook</a>'\n",
              "            + ' to learn more about interactive tables.';\n",
              "          element.innerHTML = '';\n",
              "          dataTable['output_type'] = 'display_data';\n",
              "          await google.colab.output.renderOutput(dataTable, element);\n",
              "          const docLink = document.createElement('div');\n",
              "          docLink.innerHTML = docLinkHtml;\n",
              "          element.appendChild(docLink);\n",
              "        }\n",
              "      </script>\n",
              "    </div>\n",
              "  </div>\n",
              "  "
            ]
          },
          "metadata": {},
          "execution_count": 47
        }
      ]
    },
    {
      "cell_type": "code",
      "source": [
        "X_new.shape"
      ],
      "metadata": {
        "colab": {
          "base_uri": "https://localhost:8080/"
        },
        "id": "YMhHeR9QxqCA",
        "outputId": "dc987b5e-413e-4249-fe63-c96663319366"
      },
      "execution_count": 48,
      "outputs": [
        {
          "output_type": "execute_result",
          "data": {
            "text/plain": [
              "(1, 100)"
            ]
          },
          "metadata": {},
          "execution_count": 48
        }
      ]
    },
    {
      "cell_type": "code",
      "source": [
        "X_new = ss.fit_transform(X_new)"
      ],
      "metadata": {
        "id": "9cEe0f8xxqEU"
      },
      "execution_count": 49,
      "outputs": []
    },
    {
      "cell_type": "code",
      "source": [
        ""
      ],
      "metadata": {
        "id": "3ZYC1ZzXxqHA"
      },
      "execution_count": 62,
      "outputs": []
    },
    {
      "cell_type": "code",
      "source": [
        ""
      ],
      "metadata": {
        "id": "pJ4iqAmExqJ1"
      },
      "execution_count": 62,
      "outputs": []
    },
    {
      "cell_type": "code",
      "source": [
        ""
      ],
      "metadata": {
        "id": "XXaoPnP3xqMC"
      },
      "execution_count": 62,
      "outputs": []
    }
  ]
}